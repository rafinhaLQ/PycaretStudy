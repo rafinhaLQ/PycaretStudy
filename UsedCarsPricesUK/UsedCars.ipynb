{
 "cells": [
  {
   "cell_type": "markdown",
   "metadata": {},
   "source": [
    "# Regressão Carros Usados no Reino Unido\n",
    "**Objetivo**: Prever preço de carros usados no Reino Unido"
   ]
  },
  {
   "cell_type": "markdown",
   "metadata": {},
   "source": [
    "## Preparação\n",
    "Limpeza e Tratamento de Dados"
   ]
  },
  {
   "cell_type": "code",
   "execution_count": 1,
   "metadata": {},
   "outputs": [],
   "source": [
    "import pandas as pd"
   ]
  },
  {
   "cell_type": "code",
   "execution_count": 2,
   "metadata": {},
   "outputs": [],
   "source": [
    "data = pd.read_csv('dados/used_cars_UK.csv')"
   ]
  },
  {
   "cell_type": "code",
   "execution_count": 3,
   "metadata": {},
   "outputs": [
    {
     "data": {
      "text/html": [
       "<div>\n",
       "<style scoped>\n",
       "    .dataframe tbody tr th:only-of-type {\n",
       "        vertical-align: middle;\n",
       "    }\n",
       "\n",
       "    .dataframe tbody tr th {\n",
       "        vertical-align: top;\n",
       "    }\n",
       "\n",
       "    .dataframe thead th {\n",
       "        text-align: right;\n",
       "    }\n",
       "</style>\n",
       "<table border=\"1\" class=\"dataframe\">\n",
       "  <thead>\n",
       "    <tr style=\"text-align: right;\">\n",
       "      <th></th>\n",
       "      <th>Unnamed: 0</th>\n",
       "      <th>title</th>\n",
       "      <th>Price</th>\n",
       "      <th>Mileage(miles)</th>\n",
       "      <th>Registration_Year</th>\n",
       "      <th>Previous Owners</th>\n",
       "      <th>Fuel type</th>\n",
       "      <th>Body type</th>\n",
       "      <th>Engine</th>\n",
       "      <th>Gearbox</th>\n",
       "      <th>Doors</th>\n",
       "      <th>Seats</th>\n",
       "      <th>Emission Class</th>\n",
       "      <th>Service history</th>\n",
       "    </tr>\n",
       "  </thead>\n",
       "  <tbody>\n",
       "    <tr>\n",
       "      <th>0</th>\n",
       "      <td>0</td>\n",
       "      <td>SKODA Fabia</td>\n",
       "      <td>6900</td>\n",
       "      <td>70189</td>\n",
       "      <td>2016</td>\n",
       "      <td>3.0</td>\n",
       "      <td>Diesel</td>\n",
       "      <td>Hatchback</td>\n",
       "      <td>1.4L</td>\n",
       "      <td>Manual</td>\n",
       "      <td>5.0</td>\n",
       "      <td>5.0</td>\n",
       "      <td>Euro 6</td>\n",
       "      <td>NaN</td>\n",
       "    </tr>\n",
       "    <tr>\n",
       "      <th>1</th>\n",
       "      <td>1</td>\n",
       "      <td>Vauxhall Corsa</td>\n",
       "      <td>1495</td>\n",
       "      <td>88585</td>\n",
       "      <td>2008</td>\n",
       "      <td>4.0</td>\n",
       "      <td>Petrol</td>\n",
       "      <td>Hatchback</td>\n",
       "      <td>1.2L</td>\n",
       "      <td>Manual</td>\n",
       "      <td>3.0</td>\n",
       "      <td>5.0</td>\n",
       "      <td>Euro 4</td>\n",
       "      <td>Full</td>\n",
       "    </tr>\n",
       "    <tr>\n",
       "      <th>2</th>\n",
       "      <td>2</td>\n",
       "      <td>Hyundai i30</td>\n",
       "      <td>949</td>\n",
       "      <td>137000</td>\n",
       "      <td>2011</td>\n",
       "      <td>NaN</td>\n",
       "      <td>Petrol</td>\n",
       "      <td>Hatchback</td>\n",
       "      <td>1.4L</td>\n",
       "      <td>Manual</td>\n",
       "      <td>5.0</td>\n",
       "      <td>5.0</td>\n",
       "      <td>Euro 5</td>\n",
       "      <td>NaN</td>\n",
       "    </tr>\n",
       "    <tr>\n",
       "      <th>3</th>\n",
       "      <td>3</td>\n",
       "      <td>MINI Hatch</td>\n",
       "      <td>2395</td>\n",
       "      <td>96731</td>\n",
       "      <td>2010</td>\n",
       "      <td>5.0</td>\n",
       "      <td>Petrol</td>\n",
       "      <td>Hatchback</td>\n",
       "      <td>1.4L</td>\n",
       "      <td>Manual</td>\n",
       "      <td>3.0</td>\n",
       "      <td>4.0</td>\n",
       "      <td>Euro 4</td>\n",
       "      <td>Full</td>\n",
       "    </tr>\n",
       "    <tr>\n",
       "      <th>4</th>\n",
       "      <td>4</td>\n",
       "      <td>Vauxhall Corsa</td>\n",
       "      <td>1000</td>\n",
       "      <td>85000</td>\n",
       "      <td>2013</td>\n",
       "      <td>NaN</td>\n",
       "      <td>Diesel</td>\n",
       "      <td>Hatchback</td>\n",
       "      <td>1.3L</td>\n",
       "      <td>Manual</td>\n",
       "      <td>5.0</td>\n",
       "      <td>5.0</td>\n",
       "      <td>Euro 5</td>\n",
       "      <td>NaN</td>\n",
       "    </tr>\n",
       "  </tbody>\n",
       "</table>\n",
       "</div>"
      ],
      "text/plain": [
       "   Unnamed: 0           title  Price  Mileage(miles)  Registration_Year  \\\n",
       "0           0     SKODA Fabia   6900           70189               2016   \n",
       "1           1  Vauxhall Corsa   1495           88585               2008   \n",
       "2           2     Hyundai i30    949          137000               2011   \n",
       "3           3      MINI Hatch   2395           96731               2010   \n",
       "4           4  Vauxhall Corsa   1000           85000               2013   \n",
       "\n",
       "   Previous Owners Fuel type  Body type Engine Gearbox  Doors  Seats  \\\n",
       "0              3.0    Diesel  Hatchback   1.4L  Manual    5.0    5.0   \n",
       "1              4.0    Petrol  Hatchback   1.2L  Manual    3.0    5.0   \n",
       "2              NaN    Petrol  Hatchback   1.4L  Manual    5.0    5.0   \n",
       "3              5.0    Petrol  Hatchback   1.4L  Manual    3.0    4.0   \n",
       "4              NaN    Diesel  Hatchback   1.3L  Manual    5.0    5.0   \n",
       "\n",
       "  Emission Class Service history  \n",
       "0         Euro 6             NaN  \n",
       "1         Euro 4            Full  \n",
       "2         Euro 5             NaN  \n",
       "3         Euro 4            Full  \n",
       "4         Euro 5             NaN  "
      ]
     },
     "execution_count": 3,
     "metadata": {},
     "output_type": "execute_result"
    }
   ],
   "source": [
    "data.head()"
   ]
  },
  {
   "cell_type": "code",
   "execution_count": 4,
   "metadata": {},
   "outputs": [
    {
     "data": {
      "text/plain": [
       "(3685, 14)"
      ]
     },
     "execution_count": 4,
     "metadata": {},
     "output_type": "execute_result"
    }
   ],
   "source": [
    "data.shape"
   ]
  },
  {
   "cell_type": "code",
   "execution_count": 5,
   "metadata": {},
   "outputs": [
    {
     "data": {
      "text/plain": [
       "Unnamed: 0              0\n",
       "title                   0\n",
       "Price                   0\n",
       "Mileage(miles)          0\n",
       "Registration_Year       0\n",
       "Previous Owners      1409\n",
       "Fuel type               0\n",
       "Body type               0\n",
       "Engine                 45\n",
       "Gearbox                 0\n",
       "Doors                  25\n",
       "Seats                  35\n",
       "Emission Class         87\n",
       "Service history      3145\n",
       "dtype: int64"
      ]
     },
     "execution_count": 5,
     "metadata": {},
     "output_type": "execute_result"
    }
   ],
   "source": [
    "# Verifica quantos NaN tem em cada coluna\n",
    "data.isnull().sum()"
   ]
  },
  {
   "cell_type": "markdown",
   "metadata": {},
   "source": [
    "### Limpar variaveis que não serão utilizadas"
   ]
  },
  {
   "cell_type": "code",
   "execution_count": 6,
   "metadata": {},
   "outputs": [],
   "source": [
    "data = data.drop(['Unnamed: 0', 'title'], axis = 1)"
   ]
  },
  {
   "cell_type": "code",
   "execution_count": 7,
   "metadata": {},
   "outputs": [
    {
     "data": {
      "text/html": [
       "<div>\n",
       "<style scoped>\n",
       "    .dataframe tbody tr th:only-of-type {\n",
       "        vertical-align: middle;\n",
       "    }\n",
       "\n",
       "    .dataframe tbody tr th {\n",
       "        vertical-align: top;\n",
       "    }\n",
       "\n",
       "    .dataframe thead th {\n",
       "        text-align: right;\n",
       "    }\n",
       "</style>\n",
       "<table border=\"1\" class=\"dataframe\">\n",
       "  <thead>\n",
       "    <tr style=\"text-align: right;\">\n",
       "      <th></th>\n",
       "      <th>Price</th>\n",
       "      <th>Mileage(miles)</th>\n",
       "      <th>Registration_Year</th>\n",
       "      <th>Previous Owners</th>\n",
       "      <th>Fuel type</th>\n",
       "      <th>Body type</th>\n",
       "      <th>Engine</th>\n",
       "      <th>Gearbox</th>\n",
       "      <th>Doors</th>\n",
       "      <th>Seats</th>\n",
       "      <th>Emission Class</th>\n",
       "      <th>Service history</th>\n",
       "    </tr>\n",
       "  </thead>\n",
       "  <tbody>\n",
       "    <tr>\n",
       "      <th>0</th>\n",
       "      <td>6900</td>\n",
       "      <td>70189</td>\n",
       "      <td>2016</td>\n",
       "      <td>3.0</td>\n",
       "      <td>Diesel</td>\n",
       "      <td>Hatchback</td>\n",
       "      <td>1.4L</td>\n",
       "      <td>Manual</td>\n",
       "      <td>5.0</td>\n",
       "      <td>5.0</td>\n",
       "      <td>Euro 6</td>\n",
       "      <td>NaN</td>\n",
       "    </tr>\n",
       "    <tr>\n",
       "      <th>1</th>\n",
       "      <td>1495</td>\n",
       "      <td>88585</td>\n",
       "      <td>2008</td>\n",
       "      <td>4.0</td>\n",
       "      <td>Petrol</td>\n",
       "      <td>Hatchback</td>\n",
       "      <td>1.2L</td>\n",
       "      <td>Manual</td>\n",
       "      <td>3.0</td>\n",
       "      <td>5.0</td>\n",
       "      <td>Euro 4</td>\n",
       "      <td>Full</td>\n",
       "    </tr>\n",
       "    <tr>\n",
       "      <th>2</th>\n",
       "      <td>949</td>\n",
       "      <td>137000</td>\n",
       "      <td>2011</td>\n",
       "      <td>NaN</td>\n",
       "      <td>Petrol</td>\n",
       "      <td>Hatchback</td>\n",
       "      <td>1.4L</td>\n",
       "      <td>Manual</td>\n",
       "      <td>5.0</td>\n",
       "      <td>5.0</td>\n",
       "      <td>Euro 5</td>\n",
       "      <td>NaN</td>\n",
       "    </tr>\n",
       "    <tr>\n",
       "      <th>3</th>\n",
       "      <td>2395</td>\n",
       "      <td>96731</td>\n",
       "      <td>2010</td>\n",
       "      <td>5.0</td>\n",
       "      <td>Petrol</td>\n",
       "      <td>Hatchback</td>\n",
       "      <td>1.4L</td>\n",
       "      <td>Manual</td>\n",
       "      <td>3.0</td>\n",
       "      <td>4.0</td>\n",
       "      <td>Euro 4</td>\n",
       "      <td>Full</td>\n",
       "    </tr>\n",
       "    <tr>\n",
       "      <th>4</th>\n",
       "      <td>1000</td>\n",
       "      <td>85000</td>\n",
       "      <td>2013</td>\n",
       "      <td>NaN</td>\n",
       "      <td>Diesel</td>\n",
       "      <td>Hatchback</td>\n",
       "      <td>1.3L</td>\n",
       "      <td>Manual</td>\n",
       "      <td>5.0</td>\n",
       "      <td>5.0</td>\n",
       "      <td>Euro 5</td>\n",
       "      <td>NaN</td>\n",
       "    </tr>\n",
       "  </tbody>\n",
       "</table>\n",
       "</div>"
      ],
      "text/plain": [
       "   Price  Mileage(miles)  Registration_Year  Previous Owners Fuel type  \\\n",
       "0   6900           70189               2016              3.0    Diesel   \n",
       "1   1495           88585               2008              4.0    Petrol   \n",
       "2    949          137000               2011              NaN    Petrol   \n",
       "3   2395           96731               2010              5.0    Petrol   \n",
       "4   1000           85000               2013              NaN    Diesel   \n",
       "\n",
       "   Body type Engine Gearbox  Doors  Seats Emission Class Service history  \n",
       "0  Hatchback   1.4L  Manual    5.0    5.0         Euro 6             NaN  \n",
       "1  Hatchback   1.2L  Manual    3.0    5.0         Euro 4            Full  \n",
       "2  Hatchback   1.4L  Manual    5.0    5.0         Euro 5             NaN  \n",
       "3  Hatchback   1.4L  Manual    3.0    4.0         Euro 4            Full  \n",
       "4  Hatchback   1.3L  Manual    5.0    5.0         Euro 5             NaN  "
      ]
     },
     "execution_count": 7,
     "metadata": {},
     "output_type": "execute_result"
    }
   ],
   "source": [
    "data.head()"
   ]
  },
  {
   "cell_type": "markdown",
   "metadata": {},
   "source": [
    "### Tratamento de 'Previous Owners'"
   ]
  },
  {
   "cell_type": "code",
   "execution_count": 8,
   "metadata": {},
   "outputs": [
    {
     "data": {
      "text/plain": [
       "Previous Owners\n",
       "1.0    523\n",
       "2.0    594\n",
       "3.0    475\n",
       "4.0    360\n",
       "5.0    208\n",
       "6.0     60\n",
       "7.0     39\n",
       "8.0     12\n",
       "9.0      5\n",
       "dtype: int64"
      ]
     },
     "execution_count": 8,
     "metadata": {},
     "output_type": "execute_result"
    }
   ],
   "source": [
    "data.groupby(['Previous Owners']).size()"
   ]
  },
  {
   "cell_type": "code",
   "execution_count": 9,
   "metadata": {},
   "outputs": [],
   "source": [
    "# Substitui carros que não especificam o número de donos por 1\n",
    "data['Previous Owners'].fillna(1, inplace = True)"
   ]
  },
  {
   "cell_type": "code",
   "execution_count": 10,
   "metadata": {},
   "outputs": [
    {
     "data": {
      "text/html": [
       "<div>\n",
       "<style scoped>\n",
       "    .dataframe tbody tr th:only-of-type {\n",
       "        vertical-align: middle;\n",
       "    }\n",
       "\n",
       "    .dataframe tbody tr th {\n",
       "        vertical-align: top;\n",
       "    }\n",
       "\n",
       "    .dataframe thead th {\n",
       "        text-align: right;\n",
       "    }\n",
       "</style>\n",
       "<table border=\"1\" class=\"dataframe\">\n",
       "  <thead>\n",
       "    <tr style=\"text-align: right;\">\n",
       "      <th></th>\n",
       "      <th>Price</th>\n",
       "      <th>Mileage(miles)</th>\n",
       "      <th>Registration_Year</th>\n",
       "      <th>Previous Owners</th>\n",
       "      <th>Fuel type</th>\n",
       "      <th>Body type</th>\n",
       "      <th>Engine</th>\n",
       "      <th>Gearbox</th>\n",
       "      <th>Doors</th>\n",
       "      <th>Seats</th>\n",
       "      <th>Emission Class</th>\n",
       "      <th>Service history</th>\n",
       "    </tr>\n",
       "  </thead>\n",
       "  <tbody>\n",
       "    <tr>\n",
       "      <th>0</th>\n",
       "      <td>6900</td>\n",
       "      <td>70189</td>\n",
       "      <td>2016</td>\n",
       "      <td>3.0</td>\n",
       "      <td>Diesel</td>\n",
       "      <td>Hatchback</td>\n",
       "      <td>1.4L</td>\n",
       "      <td>Manual</td>\n",
       "      <td>5.0</td>\n",
       "      <td>5.0</td>\n",
       "      <td>Euro 6</td>\n",
       "      <td>NaN</td>\n",
       "    </tr>\n",
       "    <tr>\n",
       "      <th>1</th>\n",
       "      <td>1495</td>\n",
       "      <td>88585</td>\n",
       "      <td>2008</td>\n",
       "      <td>4.0</td>\n",
       "      <td>Petrol</td>\n",
       "      <td>Hatchback</td>\n",
       "      <td>1.2L</td>\n",
       "      <td>Manual</td>\n",
       "      <td>3.0</td>\n",
       "      <td>5.0</td>\n",
       "      <td>Euro 4</td>\n",
       "      <td>Full</td>\n",
       "    </tr>\n",
       "    <tr>\n",
       "      <th>2</th>\n",
       "      <td>949</td>\n",
       "      <td>137000</td>\n",
       "      <td>2011</td>\n",
       "      <td>1.0</td>\n",
       "      <td>Petrol</td>\n",
       "      <td>Hatchback</td>\n",
       "      <td>1.4L</td>\n",
       "      <td>Manual</td>\n",
       "      <td>5.0</td>\n",
       "      <td>5.0</td>\n",
       "      <td>Euro 5</td>\n",
       "      <td>NaN</td>\n",
       "    </tr>\n",
       "    <tr>\n",
       "      <th>3</th>\n",
       "      <td>2395</td>\n",
       "      <td>96731</td>\n",
       "      <td>2010</td>\n",
       "      <td>5.0</td>\n",
       "      <td>Petrol</td>\n",
       "      <td>Hatchback</td>\n",
       "      <td>1.4L</td>\n",
       "      <td>Manual</td>\n",
       "      <td>3.0</td>\n",
       "      <td>4.0</td>\n",
       "      <td>Euro 4</td>\n",
       "      <td>Full</td>\n",
       "    </tr>\n",
       "    <tr>\n",
       "      <th>4</th>\n",
       "      <td>1000</td>\n",
       "      <td>85000</td>\n",
       "      <td>2013</td>\n",
       "      <td>1.0</td>\n",
       "      <td>Diesel</td>\n",
       "      <td>Hatchback</td>\n",
       "      <td>1.3L</td>\n",
       "      <td>Manual</td>\n",
       "      <td>5.0</td>\n",
       "      <td>5.0</td>\n",
       "      <td>Euro 5</td>\n",
       "      <td>NaN</td>\n",
       "    </tr>\n",
       "  </tbody>\n",
       "</table>\n",
       "</div>"
      ],
      "text/plain": [
       "   Price  Mileage(miles)  Registration_Year  Previous Owners Fuel type  \\\n",
       "0   6900           70189               2016              3.0    Diesel   \n",
       "1   1495           88585               2008              4.0    Petrol   \n",
       "2    949          137000               2011              1.0    Petrol   \n",
       "3   2395           96731               2010              5.0    Petrol   \n",
       "4   1000           85000               2013              1.0    Diesel   \n",
       "\n",
       "   Body type Engine Gearbox  Doors  Seats Emission Class Service history  \n",
       "0  Hatchback   1.4L  Manual    5.0    5.0         Euro 6             NaN  \n",
       "1  Hatchback   1.2L  Manual    3.0    5.0         Euro 4            Full  \n",
       "2  Hatchback   1.4L  Manual    5.0    5.0         Euro 5             NaN  \n",
       "3  Hatchback   1.4L  Manual    3.0    4.0         Euro 4            Full  \n",
       "4  Hatchback   1.3L  Manual    5.0    5.0         Euro 5             NaN  "
      ]
     },
     "execution_count": 10,
     "metadata": {},
     "output_type": "execute_result"
    }
   ],
   "source": [
    "data.head()"
   ]
  },
  {
   "cell_type": "code",
   "execution_count": 11,
   "metadata": {},
   "outputs": [
    {
     "data": {
      "text/plain": [
       "Price                   0\n",
       "Mileage(miles)          0\n",
       "Registration_Year       0\n",
       "Previous Owners         0\n",
       "Fuel type               0\n",
       "Body type               0\n",
       "Engine                 45\n",
       "Gearbox                 0\n",
       "Doors                  25\n",
       "Seats                  35\n",
       "Emission Class         87\n",
       "Service history      3145\n",
       "dtype: int64"
      ]
     },
     "execution_count": 11,
     "metadata": {},
     "output_type": "execute_result"
    }
   ],
   "source": [
    "data.isnull().sum()"
   ]
  },
  {
   "cell_type": "markdown",
   "metadata": {},
   "source": [
    "### Tratamento de Fuel type"
   ]
  },
  {
   "cell_type": "code",
   "execution_count": 12,
   "metadata": {},
   "outputs": [
    {
     "data": {
      "text/plain": [
       "Fuel type\n",
       "Diesel                   1218\n",
       "Diesel Hybrid               1\n",
       "Electric                   31\n",
       "Petrol                   2361\n",
       "Petrol Hybrid              47\n",
       "Petrol Plug-in Hybrid      27\n",
       "dtype: int64"
      ]
     },
     "execution_count": 12,
     "metadata": {},
     "output_type": "execute_result"
    }
   ],
   "source": [
    "data.groupby(['Fuel type']).size()"
   ]
  },
  {
   "cell_type": "code",
   "execution_count": 13,
   "metadata": {},
   "outputs": [],
   "source": [
    "# Padronização\n",
    "data.loc[data['Fuel type'] == 'Diesel Hybrid', 'Fuel type'] = 'Diesel'\n",
    "data.loc[data['Fuel type'].isin(['Electric', 'Petrol Hybrid', 'Petrol Plug-in Hybrid']), 'Fuel type'] = 'Petrol'"
   ]
  },
  {
   "cell_type": "code",
   "execution_count": 14,
   "metadata": {},
   "outputs": [
    {
     "data": {
      "text/plain": [
       "Fuel type\n",
       "Diesel    1219\n",
       "Petrol    2466\n",
       "dtype: int64"
      ]
     },
     "execution_count": 14,
     "metadata": {},
     "output_type": "execute_result"
    }
   ],
   "source": [
    "data.groupby(['Fuel type']).size()"
   ]
  },
  {
   "cell_type": "code",
   "execution_count": 15,
   "metadata": {},
   "outputs": [],
   "source": [
    "data.loc[data['Fuel type'] == 'Diesel', 'Fuel type'] = 0\n",
    "data.loc[data['Fuel type'] == 'Petrol', 'Fuel type'] = 1"
   ]
  },
  {
   "cell_type": "code",
   "execution_count": 16,
   "metadata": {},
   "outputs": [
    {
     "data": {
      "text/plain": [
       "Fuel type\n",
       "0    1219\n",
       "1    2466\n",
       "dtype: int64"
      ]
     },
     "execution_count": 16,
     "metadata": {},
     "output_type": "execute_result"
    }
   ],
   "source": [
    "data.groupby(['Fuel type']).size()"
   ]
  },
  {
   "cell_type": "code",
   "execution_count": 17,
   "metadata": {},
   "outputs": [
    {
     "data": {
      "text/html": [
       "<div>\n",
       "<style scoped>\n",
       "    .dataframe tbody tr th:only-of-type {\n",
       "        vertical-align: middle;\n",
       "    }\n",
       "\n",
       "    .dataframe tbody tr th {\n",
       "        vertical-align: top;\n",
       "    }\n",
       "\n",
       "    .dataframe thead th {\n",
       "        text-align: right;\n",
       "    }\n",
       "</style>\n",
       "<table border=\"1\" class=\"dataframe\">\n",
       "  <thead>\n",
       "    <tr style=\"text-align: right;\">\n",
       "      <th></th>\n",
       "      <th>Price</th>\n",
       "      <th>Mileage(miles)</th>\n",
       "      <th>Registration_Year</th>\n",
       "      <th>Previous Owners</th>\n",
       "      <th>Fuel type</th>\n",
       "      <th>Body type</th>\n",
       "      <th>Engine</th>\n",
       "      <th>Gearbox</th>\n",
       "      <th>Doors</th>\n",
       "      <th>Seats</th>\n",
       "      <th>Emission Class</th>\n",
       "      <th>Service history</th>\n",
       "    </tr>\n",
       "  </thead>\n",
       "  <tbody>\n",
       "    <tr>\n",
       "      <th>0</th>\n",
       "      <td>6900</td>\n",
       "      <td>70189</td>\n",
       "      <td>2016</td>\n",
       "      <td>3.0</td>\n",
       "      <td>0</td>\n",
       "      <td>Hatchback</td>\n",
       "      <td>1.4L</td>\n",
       "      <td>Manual</td>\n",
       "      <td>5.0</td>\n",
       "      <td>5.0</td>\n",
       "      <td>Euro 6</td>\n",
       "      <td>NaN</td>\n",
       "    </tr>\n",
       "    <tr>\n",
       "      <th>1</th>\n",
       "      <td>1495</td>\n",
       "      <td>88585</td>\n",
       "      <td>2008</td>\n",
       "      <td>4.0</td>\n",
       "      <td>1</td>\n",
       "      <td>Hatchback</td>\n",
       "      <td>1.2L</td>\n",
       "      <td>Manual</td>\n",
       "      <td>3.0</td>\n",
       "      <td>5.0</td>\n",
       "      <td>Euro 4</td>\n",
       "      <td>Full</td>\n",
       "    </tr>\n",
       "    <tr>\n",
       "      <th>2</th>\n",
       "      <td>949</td>\n",
       "      <td>137000</td>\n",
       "      <td>2011</td>\n",
       "      <td>1.0</td>\n",
       "      <td>1</td>\n",
       "      <td>Hatchback</td>\n",
       "      <td>1.4L</td>\n",
       "      <td>Manual</td>\n",
       "      <td>5.0</td>\n",
       "      <td>5.0</td>\n",
       "      <td>Euro 5</td>\n",
       "      <td>NaN</td>\n",
       "    </tr>\n",
       "    <tr>\n",
       "      <th>3</th>\n",
       "      <td>2395</td>\n",
       "      <td>96731</td>\n",
       "      <td>2010</td>\n",
       "      <td>5.0</td>\n",
       "      <td>1</td>\n",
       "      <td>Hatchback</td>\n",
       "      <td>1.4L</td>\n",
       "      <td>Manual</td>\n",
       "      <td>3.0</td>\n",
       "      <td>4.0</td>\n",
       "      <td>Euro 4</td>\n",
       "      <td>Full</td>\n",
       "    </tr>\n",
       "    <tr>\n",
       "      <th>4</th>\n",
       "      <td>1000</td>\n",
       "      <td>85000</td>\n",
       "      <td>2013</td>\n",
       "      <td>1.0</td>\n",
       "      <td>0</td>\n",
       "      <td>Hatchback</td>\n",
       "      <td>1.3L</td>\n",
       "      <td>Manual</td>\n",
       "      <td>5.0</td>\n",
       "      <td>5.0</td>\n",
       "      <td>Euro 5</td>\n",
       "      <td>NaN</td>\n",
       "    </tr>\n",
       "  </tbody>\n",
       "</table>\n",
       "</div>"
      ],
      "text/plain": [
       "   Price  Mileage(miles)  Registration_Year  Previous Owners Fuel type  \\\n",
       "0   6900           70189               2016              3.0         0   \n",
       "1   1495           88585               2008              4.0         1   \n",
       "2    949          137000               2011              1.0         1   \n",
       "3   2395           96731               2010              5.0         1   \n",
       "4   1000           85000               2013              1.0         0   \n",
       "\n",
       "   Body type Engine Gearbox  Doors  Seats Emission Class Service history  \n",
       "0  Hatchback   1.4L  Manual    5.0    5.0         Euro 6             NaN  \n",
       "1  Hatchback   1.2L  Manual    3.0    5.0         Euro 4            Full  \n",
       "2  Hatchback   1.4L  Manual    5.0    5.0         Euro 5             NaN  \n",
       "3  Hatchback   1.4L  Manual    3.0    4.0         Euro 4            Full  \n",
       "4  Hatchback   1.3L  Manual    5.0    5.0         Euro 5             NaN  "
      ]
     },
     "execution_count": 17,
     "metadata": {},
     "output_type": "execute_result"
    }
   ],
   "source": [
    "data.head()"
   ]
  },
  {
   "cell_type": "markdown",
   "metadata": {},
   "source": [
    "### Decidi não tratar 'Body type' para testar variaveis categoricas com os modelos"
   ]
  },
  {
   "cell_type": "code",
   "execution_count": 18,
   "metadata": {},
   "outputs": [
    {
     "data": {
      "text/plain": [
       "Body type\n",
       "Combi Van         2\n",
       "Convertible     109\n",
       "Coupe           139\n",
       "Estate          171\n",
       "Hatchback      2279\n",
       "MPV             153\n",
       "Minibus           1\n",
       "Pickup            3\n",
       "SUV             460\n",
       "Saloon          368\n",
       "dtype: int64"
      ]
     },
     "execution_count": 18,
     "metadata": {},
     "output_type": "execute_result"
    }
   ],
   "source": [
    "data.groupby(['Body type']).size()"
   ]
  },
  {
   "cell_type": "markdown",
   "metadata": {},
   "source": [
    "### Tratamento de 'Engine'"
   ]
  },
  {
   "cell_type": "code",
   "execution_count": 19,
   "metadata": {},
   "outputs": [
    {
     "data": {
      "text/plain": [
       "Engine\n",
       "0.8L      2\n",
       "0.9L     15\n",
       "1.0L    326\n",
       "1.1L     39\n",
       "1.2L    521\n",
       "1.3L    170\n",
       "1.4L    421\n",
       "1.5L    294\n",
       "1.6L    734\n",
       "1.7L     35\n",
       "1.8L    158\n",
       "1.9L     31\n",
       "2.0L    553\n",
       "2.1L     63\n",
       "2.2L     75\n",
       "2.3L      4\n",
       "2.4L     28\n",
       "2.5L     33\n",
       "2.6L      4\n",
       "2.7L     11\n",
       "2.8L      3\n",
       "3.0L     79\n",
       "3.1L      1\n",
       "3.2L      7\n",
       "3.3L      1\n",
       "3.5L     10\n",
       "3.7L      5\n",
       "4.2L      4\n",
       "4.3L      2\n",
       "4.4L      5\n",
       "4.8L      1\n",
       "5.0L      3\n",
       "5.5L      1\n",
       "6.3L      1\n",
       "dtype: int64"
      ]
     },
     "execution_count": 19,
     "metadata": {},
     "output_type": "execute_result"
    }
   ],
   "source": [
    "data.groupby(['Engine']).size()"
   ]
  },
  {
   "cell_type": "code",
   "execution_count": 20,
   "metadata": {},
   "outputs": [
    {
     "data": {
      "text/plain": [
       "45"
      ]
     },
     "execution_count": 20,
     "metadata": {},
     "output_type": "execute_result"
    }
   ],
   "source": [
    "data['Engine'].isnull().sum()"
   ]
  },
  {
   "cell_type": "code",
   "execution_count": 21,
   "metadata": {},
   "outputs": [],
   "source": [
    "data['Engine'] = data['Engine'].str.replace('L', '')"
   ]
  },
  {
   "cell_type": "code",
   "execution_count": 22,
   "metadata": {},
   "outputs": [
    {
     "data": {
      "text/html": [
       "<div>\n",
       "<style scoped>\n",
       "    .dataframe tbody tr th:only-of-type {\n",
       "        vertical-align: middle;\n",
       "    }\n",
       "\n",
       "    .dataframe tbody tr th {\n",
       "        vertical-align: top;\n",
       "    }\n",
       "\n",
       "    .dataframe thead th {\n",
       "        text-align: right;\n",
       "    }\n",
       "</style>\n",
       "<table border=\"1\" class=\"dataframe\">\n",
       "  <thead>\n",
       "    <tr style=\"text-align: right;\">\n",
       "      <th></th>\n",
       "      <th>Price</th>\n",
       "      <th>Mileage(miles)</th>\n",
       "      <th>Registration_Year</th>\n",
       "      <th>Previous Owners</th>\n",
       "      <th>Fuel type</th>\n",
       "      <th>Body type</th>\n",
       "      <th>Engine</th>\n",
       "      <th>Gearbox</th>\n",
       "      <th>Doors</th>\n",
       "      <th>Seats</th>\n",
       "      <th>Emission Class</th>\n",
       "      <th>Service history</th>\n",
       "    </tr>\n",
       "  </thead>\n",
       "  <tbody>\n",
       "    <tr>\n",
       "      <th>0</th>\n",
       "      <td>6900</td>\n",
       "      <td>70189</td>\n",
       "      <td>2016</td>\n",
       "      <td>3.0</td>\n",
       "      <td>0</td>\n",
       "      <td>Hatchback</td>\n",
       "      <td>1.4</td>\n",
       "      <td>Manual</td>\n",
       "      <td>5.0</td>\n",
       "      <td>5.0</td>\n",
       "      <td>Euro 6</td>\n",
       "      <td>NaN</td>\n",
       "    </tr>\n",
       "    <tr>\n",
       "      <th>1</th>\n",
       "      <td>1495</td>\n",
       "      <td>88585</td>\n",
       "      <td>2008</td>\n",
       "      <td>4.0</td>\n",
       "      <td>1</td>\n",
       "      <td>Hatchback</td>\n",
       "      <td>1.2</td>\n",
       "      <td>Manual</td>\n",
       "      <td>3.0</td>\n",
       "      <td>5.0</td>\n",
       "      <td>Euro 4</td>\n",
       "      <td>Full</td>\n",
       "    </tr>\n",
       "    <tr>\n",
       "      <th>2</th>\n",
       "      <td>949</td>\n",
       "      <td>137000</td>\n",
       "      <td>2011</td>\n",
       "      <td>1.0</td>\n",
       "      <td>1</td>\n",
       "      <td>Hatchback</td>\n",
       "      <td>1.4</td>\n",
       "      <td>Manual</td>\n",
       "      <td>5.0</td>\n",
       "      <td>5.0</td>\n",
       "      <td>Euro 5</td>\n",
       "      <td>NaN</td>\n",
       "    </tr>\n",
       "    <tr>\n",
       "      <th>3</th>\n",
       "      <td>2395</td>\n",
       "      <td>96731</td>\n",
       "      <td>2010</td>\n",
       "      <td>5.0</td>\n",
       "      <td>1</td>\n",
       "      <td>Hatchback</td>\n",
       "      <td>1.4</td>\n",
       "      <td>Manual</td>\n",
       "      <td>3.0</td>\n",
       "      <td>4.0</td>\n",
       "      <td>Euro 4</td>\n",
       "      <td>Full</td>\n",
       "    </tr>\n",
       "    <tr>\n",
       "      <th>4</th>\n",
       "      <td>1000</td>\n",
       "      <td>85000</td>\n",
       "      <td>2013</td>\n",
       "      <td>1.0</td>\n",
       "      <td>0</td>\n",
       "      <td>Hatchback</td>\n",
       "      <td>1.3</td>\n",
       "      <td>Manual</td>\n",
       "      <td>5.0</td>\n",
       "      <td>5.0</td>\n",
       "      <td>Euro 5</td>\n",
       "      <td>NaN</td>\n",
       "    </tr>\n",
       "  </tbody>\n",
       "</table>\n",
       "</div>"
      ],
      "text/plain": [
       "   Price  Mileage(miles)  Registration_Year  Previous Owners Fuel type  \\\n",
       "0   6900           70189               2016              3.0         0   \n",
       "1   1495           88585               2008              4.0         1   \n",
       "2    949          137000               2011              1.0         1   \n",
       "3   2395           96731               2010              5.0         1   \n",
       "4   1000           85000               2013              1.0         0   \n",
       "\n",
       "   Body type Engine Gearbox  Doors  Seats Emission Class Service history  \n",
       "0  Hatchback    1.4  Manual    5.0    5.0         Euro 6             NaN  \n",
       "1  Hatchback    1.2  Manual    3.0    5.0         Euro 4            Full  \n",
       "2  Hatchback    1.4  Manual    5.0    5.0         Euro 5             NaN  \n",
       "3  Hatchback    1.4  Manual    3.0    4.0         Euro 4            Full  \n",
       "4  Hatchback    1.3  Manual    5.0    5.0         Euro 5             NaN  "
      ]
     },
     "execution_count": 22,
     "metadata": {},
     "output_type": "execute_result"
    }
   ],
   "source": [
    "data.head()"
   ]
  },
  {
   "cell_type": "code",
   "execution_count": 23,
   "metadata": {},
   "outputs": [
    {
     "data": {
      "text/plain": [
       "count     3640\n",
       "unique      34\n",
       "top        1.6\n",
       "freq       734\n",
       "Name: Engine, dtype: object"
      ]
     },
     "execution_count": 23,
     "metadata": {},
     "output_type": "execute_result"
    }
   ],
   "source": [
    "data['Engine'].describe()"
   ]
  },
  {
   "cell_type": "code",
   "execution_count": 24,
   "metadata": {},
   "outputs": [],
   "source": [
    "data['Engine'] = pd.to_numeric(data['Engine'])"
   ]
  },
  {
   "cell_type": "code",
   "execution_count": 25,
   "metadata": {},
   "outputs": [
    {
     "data": {
      "text/plain": [
       "count    3640.000000\n",
       "mean        1.606264\n",
       "std         0.486718\n",
       "min         0.800000\n",
       "25%         1.300000\n",
       "50%         1.600000\n",
       "75%         1.900000\n",
       "max         6.300000\n",
       "Name: Engine, dtype: float64"
      ]
     },
     "execution_count": 25,
     "metadata": {},
     "output_type": "execute_result"
    }
   ],
   "source": [
    "data['Engine'].describe()"
   ]
  },
  {
   "cell_type": "code",
   "execution_count": 26,
   "metadata": {},
   "outputs": [
    {
     "data": {
      "text/plain": [
       "0    1.6\n",
       "Name: Engine, dtype: float64"
      ]
     },
     "execution_count": 26,
     "metadata": {},
     "output_type": "execute_result"
    }
   ],
   "source": [
    "data['Engine'].mode()"
   ]
  },
  {
   "cell_type": "code",
   "execution_count": 27,
   "metadata": {},
   "outputs": [],
   "source": [
    "data['Engine'].fillna(1.6, inplace = True)"
   ]
  },
  {
   "cell_type": "code",
   "execution_count": 28,
   "metadata": {},
   "outputs": [
    {
     "data": {
      "text/html": [
       "<div>\n",
       "<style scoped>\n",
       "    .dataframe tbody tr th:only-of-type {\n",
       "        vertical-align: middle;\n",
       "    }\n",
       "\n",
       "    .dataframe tbody tr th {\n",
       "        vertical-align: top;\n",
       "    }\n",
       "\n",
       "    .dataframe thead th {\n",
       "        text-align: right;\n",
       "    }\n",
       "</style>\n",
       "<table border=\"1\" class=\"dataframe\">\n",
       "  <thead>\n",
       "    <tr style=\"text-align: right;\">\n",
       "      <th></th>\n",
       "      <th>Price</th>\n",
       "      <th>Mileage(miles)</th>\n",
       "      <th>Registration_Year</th>\n",
       "      <th>Previous Owners</th>\n",
       "      <th>Fuel type</th>\n",
       "      <th>Body type</th>\n",
       "      <th>Engine</th>\n",
       "      <th>Gearbox</th>\n",
       "      <th>Doors</th>\n",
       "      <th>Seats</th>\n",
       "      <th>Emission Class</th>\n",
       "      <th>Service history</th>\n",
       "    </tr>\n",
       "  </thead>\n",
       "  <tbody>\n",
       "    <tr>\n",
       "      <th>0</th>\n",
       "      <td>6900</td>\n",
       "      <td>70189</td>\n",
       "      <td>2016</td>\n",
       "      <td>3.0</td>\n",
       "      <td>0</td>\n",
       "      <td>Hatchback</td>\n",
       "      <td>1.4</td>\n",
       "      <td>Manual</td>\n",
       "      <td>5.0</td>\n",
       "      <td>5.0</td>\n",
       "      <td>Euro 6</td>\n",
       "      <td>NaN</td>\n",
       "    </tr>\n",
       "    <tr>\n",
       "      <th>1</th>\n",
       "      <td>1495</td>\n",
       "      <td>88585</td>\n",
       "      <td>2008</td>\n",
       "      <td>4.0</td>\n",
       "      <td>1</td>\n",
       "      <td>Hatchback</td>\n",
       "      <td>1.2</td>\n",
       "      <td>Manual</td>\n",
       "      <td>3.0</td>\n",
       "      <td>5.0</td>\n",
       "      <td>Euro 4</td>\n",
       "      <td>Full</td>\n",
       "    </tr>\n",
       "    <tr>\n",
       "      <th>2</th>\n",
       "      <td>949</td>\n",
       "      <td>137000</td>\n",
       "      <td>2011</td>\n",
       "      <td>1.0</td>\n",
       "      <td>1</td>\n",
       "      <td>Hatchback</td>\n",
       "      <td>1.4</td>\n",
       "      <td>Manual</td>\n",
       "      <td>5.0</td>\n",
       "      <td>5.0</td>\n",
       "      <td>Euro 5</td>\n",
       "      <td>NaN</td>\n",
       "    </tr>\n",
       "    <tr>\n",
       "      <th>3</th>\n",
       "      <td>2395</td>\n",
       "      <td>96731</td>\n",
       "      <td>2010</td>\n",
       "      <td>5.0</td>\n",
       "      <td>1</td>\n",
       "      <td>Hatchback</td>\n",
       "      <td>1.4</td>\n",
       "      <td>Manual</td>\n",
       "      <td>3.0</td>\n",
       "      <td>4.0</td>\n",
       "      <td>Euro 4</td>\n",
       "      <td>Full</td>\n",
       "    </tr>\n",
       "    <tr>\n",
       "      <th>4</th>\n",
       "      <td>1000</td>\n",
       "      <td>85000</td>\n",
       "      <td>2013</td>\n",
       "      <td>1.0</td>\n",
       "      <td>0</td>\n",
       "      <td>Hatchback</td>\n",
       "      <td>1.3</td>\n",
       "      <td>Manual</td>\n",
       "      <td>5.0</td>\n",
       "      <td>5.0</td>\n",
       "      <td>Euro 5</td>\n",
       "      <td>NaN</td>\n",
       "    </tr>\n",
       "  </tbody>\n",
       "</table>\n",
       "</div>"
      ],
      "text/plain": [
       "   Price  Mileage(miles)  Registration_Year  Previous Owners Fuel type  \\\n",
       "0   6900           70189               2016              3.0         0   \n",
       "1   1495           88585               2008              4.0         1   \n",
       "2    949          137000               2011              1.0         1   \n",
       "3   2395           96731               2010              5.0         1   \n",
       "4   1000           85000               2013              1.0         0   \n",
       "\n",
       "   Body type  Engine Gearbox  Doors  Seats Emission Class Service history  \n",
       "0  Hatchback     1.4  Manual    5.0    5.0         Euro 6             NaN  \n",
       "1  Hatchback     1.2  Manual    3.0    5.0         Euro 4            Full  \n",
       "2  Hatchback     1.4  Manual    5.0    5.0         Euro 5             NaN  \n",
       "3  Hatchback     1.4  Manual    3.0    4.0         Euro 4            Full  \n",
       "4  Hatchback     1.3  Manual    5.0    5.0         Euro 5             NaN  "
      ]
     },
     "execution_count": 28,
     "metadata": {},
     "output_type": "execute_result"
    }
   ],
   "source": [
    "data.head()"
   ]
  },
  {
   "cell_type": "markdown",
   "metadata": {},
   "source": [
    "### Tratamento de 'Gearbox'"
   ]
  },
  {
   "cell_type": "code",
   "execution_count": 29,
   "metadata": {},
   "outputs": [
    {
     "data": {
      "text/plain": [
       "Gearbox\n",
       "Automatic     817\n",
       "Manual       2868\n",
       "dtype: int64"
      ]
     },
     "execution_count": 29,
     "metadata": {},
     "output_type": "execute_result"
    }
   ],
   "source": [
    "data.groupby(['Gearbox']).size()"
   ]
  },
  {
   "cell_type": "code",
   "execution_count": 30,
   "metadata": {},
   "outputs": [],
   "source": [
    "data.loc[data['Gearbox'] == 'Automatic', 'Gearbox'] = 0\n",
    "data.loc[data['Gearbox'] == 'Manual', 'Gearbox'] = 1"
   ]
  },
  {
   "cell_type": "code",
   "execution_count": 31,
   "metadata": {},
   "outputs": [
    {
     "data": {
      "text/html": [
       "<div>\n",
       "<style scoped>\n",
       "    .dataframe tbody tr th:only-of-type {\n",
       "        vertical-align: middle;\n",
       "    }\n",
       "\n",
       "    .dataframe tbody tr th {\n",
       "        vertical-align: top;\n",
       "    }\n",
       "\n",
       "    .dataframe thead th {\n",
       "        text-align: right;\n",
       "    }\n",
       "</style>\n",
       "<table border=\"1\" class=\"dataframe\">\n",
       "  <thead>\n",
       "    <tr style=\"text-align: right;\">\n",
       "      <th></th>\n",
       "      <th>Price</th>\n",
       "      <th>Mileage(miles)</th>\n",
       "      <th>Registration_Year</th>\n",
       "      <th>Previous Owners</th>\n",
       "      <th>Fuel type</th>\n",
       "      <th>Body type</th>\n",
       "      <th>Engine</th>\n",
       "      <th>Gearbox</th>\n",
       "      <th>Doors</th>\n",
       "      <th>Seats</th>\n",
       "      <th>Emission Class</th>\n",
       "      <th>Service history</th>\n",
       "    </tr>\n",
       "  </thead>\n",
       "  <tbody>\n",
       "    <tr>\n",
       "      <th>0</th>\n",
       "      <td>6900</td>\n",
       "      <td>70189</td>\n",
       "      <td>2016</td>\n",
       "      <td>3.0</td>\n",
       "      <td>0</td>\n",
       "      <td>Hatchback</td>\n",
       "      <td>1.4</td>\n",
       "      <td>1</td>\n",
       "      <td>5.0</td>\n",
       "      <td>5.0</td>\n",
       "      <td>Euro 6</td>\n",
       "      <td>NaN</td>\n",
       "    </tr>\n",
       "    <tr>\n",
       "      <th>1</th>\n",
       "      <td>1495</td>\n",
       "      <td>88585</td>\n",
       "      <td>2008</td>\n",
       "      <td>4.0</td>\n",
       "      <td>1</td>\n",
       "      <td>Hatchback</td>\n",
       "      <td>1.2</td>\n",
       "      <td>1</td>\n",
       "      <td>3.0</td>\n",
       "      <td>5.0</td>\n",
       "      <td>Euro 4</td>\n",
       "      <td>Full</td>\n",
       "    </tr>\n",
       "    <tr>\n",
       "      <th>2</th>\n",
       "      <td>949</td>\n",
       "      <td>137000</td>\n",
       "      <td>2011</td>\n",
       "      <td>1.0</td>\n",
       "      <td>1</td>\n",
       "      <td>Hatchback</td>\n",
       "      <td>1.4</td>\n",
       "      <td>1</td>\n",
       "      <td>5.0</td>\n",
       "      <td>5.0</td>\n",
       "      <td>Euro 5</td>\n",
       "      <td>NaN</td>\n",
       "    </tr>\n",
       "    <tr>\n",
       "      <th>3</th>\n",
       "      <td>2395</td>\n",
       "      <td>96731</td>\n",
       "      <td>2010</td>\n",
       "      <td>5.0</td>\n",
       "      <td>1</td>\n",
       "      <td>Hatchback</td>\n",
       "      <td>1.4</td>\n",
       "      <td>1</td>\n",
       "      <td>3.0</td>\n",
       "      <td>4.0</td>\n",
       "      <td>Euro 4</td>\n",
       "      <td>Full</td>\n",
       "    </tr>\n",
       "    <tr>\n",
       "      <th>4</th>\n",
       "      <td>1000</td>\n",
       "      <td>85000</td>\n",
       "      <td>2013</td>\n",
       "      <td>1.0</td>\n",
       "      <td>0</td>\n",
       "      <td>Hatchback</td>\n",
       "      <td>1.3</td>\n",
       "      <td>1</td>\n",
       "      <td>5.0</td>\n",
       "      <td>5.0</td>\n",
       "      <td>Euro 5</td>\n",
       "      <td>NaN</td>\n",
       "    </tr>\n",
       "  </tbody>\n",
       "</table>\n",
       "</div>"
      ],
      "text/plain": [
       "   Price  Mileage(miles)  Registration_Year  Previous Owners Fuel type  \\\n",
       "0   6900           70189               2016              3.0         0   \n",
       "1   1495           88585               2008              4.0         1   \n",
       "2    949          137000               2011              1.0         1   \n",
       "3   2395           96731               2010              5.0         1   \n",
       "4   1000           85000               2013              1.0         0   \n",
       "\n",
       "   Body type  Engine Gearbox  Doors  Seats Emission Class Service history  \n",
       "0  Hatchback     1.4       1    5.0    5.0         Euro 6             NaN  \n",
       "1  Hatchback     1.2       1    3.0    5.0         Euro 4            Full  \n",
       "2  Hatchback     1.4       1    5.0    5.0         Euro 5             NaN  \n",
       "3  Hatchback     1.4       1    3.0    4.0         Euro 4            Full  \n",
       "4  Hatchback     1.3       1    5.0    5.0         Euro 5             NaN  "
      ]
     },
     "execution_count": 31,
     "metadata": {},
     "output_type": "execute_result"
    }
   ],
   "source": [
    "data.head()"
   ]
  },
  {
   "cell_type": "markdown",
   "metadata": {},
   "source": [
    "### Tratamento de 'Doors'"
   ]
  },
  {
   "cell_type": "code",
   "execution_count": 32,
   "metadata": {},
   "outputs": [
    {
     "data": {
      "text/plain": [
       "Doors\n",
       "2.0     216\n",
       "3.0     735\n",
       "4.0     367\n",
       "5.0    2342\n",
       "dtype: int64"
      ]
     },
     "execution_count": 32,
     "metadata": {},
     "output_type": "execute_result"
    }
   ],
   "source": [
    "data.groupby(['Doors']).size()"
   ]
  },
  {
   "cell_type": "code",
   "execution_count": 33,
   "metadata": {},
   "outputs": [
    {
     "data": {
      "text/plain": [
       "25"
      ]
     },
     "execution_count": 33,
     "metadata": {},
     "output_type": "execute_result"
    }
   ],
   "source": [
    "data['Doors'].isnull().sum()"
   ]
  },
  {
   "cell_type": "code",
   "execution_count": 34,
   "metadata": {},
   "outputs": [],
   "source": [
    "data['Doors'].fillna(5, inplace = True)"
   ]
  },
  {
   "cell_type": "code",
   "execution_count": 35,
   "metadata": {},
   "outputs": [
    {
     "data": {
      "text/plain": [
       "Doors\n",
       "2.0     216\n",
       "3.0     735\n",
       "4.0     367\n",
       "5.0    2367\n",
       "dtype: int64"
      ]
     },
     "execution_count": 35,
     "metadata": {},
     "output_type": "execute_result"
    }
   ],
   "source": [
    "data.groupby(['Doors']).size()"
   ]
  },
  {
   "cell_type": "code",
   "execution_count": 36,
   "metadata": {},
   "outputs": [
    {
     "data": {
      "text/html": [
       "<div>\n",
       "<style scoped>\n",
       "    .dataframe tbody tr th:only-of-type {\n",
       "        vertical-align: middle;\n",
       "    }\n",
       "\n",
       "    .dataframe tbody tr th {\n",
       "        vertical-align: top;\n",
       "    }\n",
       "\n",
       "    .dataframe thead th {\n",
       "        text-align: right;\n",
       "    }\n",
       "</style>\n",
       "<table border=\"1\" class=\"dataframe\">\n",
       "  <thead>\n",
       "    <tr style=\"text-align: right;\">\n",
       "      <th></th>\n",
       "      <th>Price</th>\n",
       "      <th>Mileage(miles)</th>\n",
       "      <th>Registration_Year</th>\n",
       "      <th>Previous Owners</th>\n",
       "      <th>Fuel type</th>\n",
       "      <th>Body type</th>\n",
       "      <th>Engine</th>\n",
       "      <th>Gearbox</th>\n",
       "      <th>Doors</th>\n",
       "      <th>Seats</th>\n",
       "      <th>Emission Class</th>\n",
       "      <th>Service history</th>\n",
       "    </tr>\n",
       "  </thead>\n",
       "  <tbody>\n",
       "    <tr>\n",
       "      <th>0</th>\n",
       "      <td>6900</td>\n",
       "      <td>70189</td>\n",
       "      <td>2016</td>\n",
       "      <td>3.0</td>\n",
       "      <td>0</td>\n",
       "      <td>Hatchback</td>\n",
       "      <td>1.4</td>\n",
       "      <td>1</td>\n",
       "      <td>5.0</td>\n",
       "      <td>5.0</td>\n",
       "      <td>Euro 6</td>\n",
       "      <td>NaN</td>\n",
       "    </tr>\n",
       "    <tr>\n",
       "      <th>1</th>\n",
       "      <td>1495</td>\n",
       "      <td>88585</td>\n",
       "      <td>2008</td>\n",
       "      <td>4.0</td>\n",
       "      <td>1</td>\n",
       "      <td>Hatchback</td>\n",
       "      <td>1.2</td>\n",
       "      <td>1</td>\n",
       "      <td>3.0</td>\n",
       "      <td>5.0</td>\n",
       "      <td>Euro 4</td>\n",
       "      <td>Full</td>\n",
       "    </tr>\n",
       "    <tr>\n",
       "      <th>2</th>\n",
       "      <td>949</td>\n",
       "      <td>137000</td>\n",
       "      <td>2011</td>\n",
       "      <td>1.0</td>\n",
       "      <td>1</td>\n",
       "      <td>Hatchback</td>\n",
       "      <td>1.4</td>\n",
       "      <td>1</td>\n",
       "      <td>5.0</td>\n",
       "      <td>5.0</td>\n",
       "      <td>Euro 5</td>\n",
       "      <td>NaN</td>\n",
       "    </tr>\n",
       "    <tr>\n",
       "      <th>3</th>\n",
       "      <td>2395</td>\n",
       "      <td>96731</td>\n",
       "      <td>2010</td>\n",
       "      <td>5.0</td>\n",
       "      <td>1</td>\n",
       "      <td>Hatchback</td>\n",
       "      <td>1.4</td>\n",
       "      <td>1</td>\n",
       "      <td>3.0</td>\n",
       "      <td>4.0</td>\n",
       "      <td>Euro 4</td>\n",
       "      <td>Full</td>\n",
       "    </tr>\n",
       "    <tr>\n",
       "      <th>4</th>\n",
       "      <td>1000</td>\n",
       "      <td>85000</td>\n",
       "      <td>2013</td>\n",
       "      <td>1.0</td>\n",
       "      <td>0</td>\n",
       "      <td>Hatchback</td>\n",
       "      <td>1.3</td>\n",
       "      <td>1</td>\n",
       "      <td>5.0</td>\n",
       "      <td>5.0</td>\n",
       "      <td>Euro 5</td>\n",
       "      <td>NaN</td>\n",
       "    </tr>\n",
       "  </tbody>\n",
       "</table>\n",
       "</div>"
      ],
      "text/plain": [
       "   Price  Mileage(miles)  Registration_Year  Previous Owners Fuel type  \\\n",
       "0   6900           70189               2016              3.0         0   \n",
       "1   1495           88585               2008              4.0         1   \n",
       "2    949          137000               2011              1.0         1   \n",
       "3   2395           96731               2010              5.0         1   \n",
       "4   1000           85000               2013              1.0         0   \n",
       "\n",
       "   Body type  Engine Gearbox  Doors  Seats Emission Class Service history  \n",
       "0  Hatchback     1.4       1    5.0    5.0         Euro 6             NaN  \n",
       "1  Hatchback     1.2       1    3.0    5.0         Euro 4            Full  \n",
       "2  Hatchback     1.4       1    5.0    5.0         Euro 5             NaN  \n",
       "3  Hatchback     1.4       1    3.0    4.0         Euro 4            Full  \n",
       "4  Hatchback     1.3       1    5.0    5.0         Euro 5             NaN  "
      ]
     },
     "execution_count": 36,
     "metadata": {},
     "output_type": "execute_result"
    }
   ],
   "source": [
    "data.head()"
   ]
  },
  {
   "cell_type": "markdown",
   "metadata": {},
   "source": [
    "### Tratamento de 'Seats'"
   ]
  },
  {
   "cell_type": "code",
   "execution_count": 37,
   "metadata": {},
   "outputs": [
    {
     "data": {
      "text/plain": [
       "Seats\n",
       "2.0      25\n",
       "3.0       2\n",
       "4.0     531\n",
       "5.0    2967\n",
       "6.0       4\n",
       "7.0     121\n",
       "dtype: int64"
      ]
     },
     "execution_count": 37,
     "metadata": {},
     "output_type": "execute_result"
    }
   ],
   "source": [
    "data.groupby(['Seats']).size()"
   ]
  },
  {
   "cell_type": "code",
   "execution_count": 38,
   "metadata": {},
   "outputs": [
    {
     "data": {
      "text/plain": [
       "35"
      ]
     },
     "execution_count": 38,
     "metadata": {},
     "output_type": "execute_result"
    }
   ],
   "source": [
    "data['Seats'].isnull().sum()"
   ]
  },
  {
   "cell_type": "code",
   "execution_count": 39,
   "metadata": {},
   "outputs": [],
   "source": [
    "data['Seats'].fillna(5, inplace = True)"
   ]
  },
  {
   "cell_type": "code",
   "execution_count": 40,
   "metadata": {},
   "outputs": [
    {
     "data": {
      "text/plain": [
       "Seats\n",
       "2.0      25\n",
       "3.0       2\n",
       "4.0     531\n",
       "5.0    3002\n",
       "6.0       4\n",
       "7.0     121\n",
       "dtype: int64"
      ]
     },
     "execution_count": 40,
     "metadata": {},
     "output_type": "execute_result"
    }
   ],
   "source": [
    "data.groupby(['Seats']).size()"
   ]
  },
  {
   "cell_type": "code",
   "execution_count": 41,
   "metadata": {},
   "outputs": [
    {
     "data": {
      "text/html": [
       "<div>\n",
       "<style scoped>\n",
       "    .dataframe tbody tr th:only-of-type {\n",
       "        vertical-align: middle;\n",
       "    }\n",
       "\n",
       "    .dataframe tbody tr th {\n",
       "        vertical-align: top;\n",
       "    }\n",
       "\n",
       "    .dataframe thead th {\n",
       "        text-align: right;\n",
       "    }\n",
       "</style>\n",
       "<table border=\"1\" class=\"dataframe\">\n",
       "  <thead>\n",
       "    <tr style=\"text-align: right;\">\n",
       "      <th></th>\n",
       "      <th>Price</th>\n",
       "      <th>Mileage(miles)</th>\n",
       "      <th>Registration_Year</th>\n",
       "      <th>Previous Owners</th>\n",
       "      <th>Fuel type</th>\n",
       "      <th>Body type</th>\n",
       "      <th>Engine</th>\n",
       "      <th>Gearbox</th>\n",
       "      <th>Doors</th>\n",
       "      <th>Seats</th>\n",
       "      <th>Emission Class</th>\n",
       "      <th>Service history</th>\n",
       "    </tr>\n",
       "  </thead>\n",
       "  <tbody>\n",
       "    <tr>\n",
       "      <th>0</th>\n",
       "      <td>6900</td>\n",
       "      <td>70189</td>\n",
       "      <td>2016</td>\n",
       "      <td>3.0</td>\n",
       "      <td>0</td>\n",
       "      <td>Hatchback</td>\n",
       "      <td>1.4</td>\n",
       "      <td>1</td>\n",
       "      <td>5.0</td>\n",
       "      <td>5.0</td>\n",
       "      <td>Euro 6</td>\n",
       "      <td>NaN</td>\n",
       "    </tr>\n",
       "    <tr>\n",
       "      <th>1</th>\n",
       "      <td>1495</td>\n",
       "      <td>88585</td>\n",
       "      <td>2008</td>\n",
       "      <td>4.0</td>\n",
       "      <td>1</td>\n",
       "      <td>Hatchback</td>\n",
       "      <td>1.2</td>\n",
       "      <td>1</td>\n",
       "      <td>3.0</td>\n",
       "      <td>5.0</td>\n",
       "      <td>Euro 4</td>\n",
       "      <td>Full</td>\n",
       "    </tr>\n",
       "    <tr>\n",
       "      <th>2</th>\n",
       "      <td>949</td>\n",
       "      <td>137000</td>\n",
       "      <td>2011</td>\n",
       "      <td>1.0</td>\n",
       "      <td>1</td>\n",
       "      <td>Hatchback</td>\n",
       "      <td>1.4</td>\n",
       "      <td>1</td>\n",
       "      <td>5.0</td>\n",
       "      <td>5.0</td>\n",
       "      <td>Euro 5</td>\n",
       "      <td>NaN</td>\n",
       "    </tr>\n",
       "    <tr>\n",
       "      <th>3</th>\n",
       "      <td>2395</td>\n",
       "      <td>96731</td>\n",
       "      <td>2010</td>\n",
       "      <td>5.0</td>\n",
       "      <td>1</td>\n",
       "      <td>Hatchback</td>\n",
       "      <td>1.4</td>\n",
       "      <td>1</td>\n",
       "      <td>3.0</td>\n",
       "      <td>4.0</td>\n",
       "      <td>Euro 4</td>\n",
       "      <td>Full</td>\n",
       "    </tr>\n",
       "    <tr>\n",
       "      <th>4</th>\n",
       "      <td>1000</td>\n",
       "      <td>85000</td>\n",
       "      <td>2013</td>\n",
       "      <td>1.0</td>\n",
       "      <td>0</td>\n",
       "      <td>Hatchback</td>\n",
       "      <td>1.3</td>\n",
       "      <td>1</td>\n",
       "      <td>5.0</td>\n",
       "      <td>5.0</td>\n",
       "      <td>Euro 5</td>\n",
       "      <td>NaN</td>\n",
       "    </tr>\n",
       "  </tbody>\n",
       "</table>\n",
       "</div>"
      ],
      "text/plain": [
       "   Price  Mileage(miles)  Registration_Year  Previous Owners Fuel type  \\\n",
       "0   6900           70189               2016              3.0         0   \n",
       "1   1495           88585               2008              4.0         1   \n",
       "2    949          137000               2011              1.0         1   \n",
       "3   2395           96731               2010              5.0         1   \n",
       "4   1000           85000               2013              1.0         0   \n",
       "\n",
       "   Body type  Engine Gearbox  Doors  Seats Emission Class Service history  \n",
       "0  Hatchback     1.4       1    5.0    5.0         Euro 6             NaN  \n",
       "1  Hatchback     1.2       1    3.0    5.0         Euro 4            Full  \n",
       "2  Hatchback     1.4       1    5.0    5.0         Euro 5             NaN  \n",
       "3  Hatchback     1.4       1    3.0    4.0         Euro 4            Full  \n",
       "4  Hatchback     1.3       1    5.0    5.0         Euro 5             NaN  "
      ]
     },
     "execution_count": 41,
     "metadata": {},
     "output_type": "execute_result"
    }
   ],
   "source": [
    "data.head()"
   ]
  },
  {
   "cell_type": "markdown",
   "metadata": {},
   "source": [
    "### Tratamento de 'Emission Class'"
   ]
  },
  {
   "cell_type": "code",
   "execution_count": 42,
   "metadata": {},
   "outputs": [
    {
     "data": {
      "text/plain": [
       "Emission Class\n",
       "Euro 1       4\n",
       "Euro 2      25\n",
       "Euro 3     137\n",
       "Euro 4    1068\n",
       "Euro 5    1256\n",
       "Euro 6    1108\n",
       "dtype: int64"
      ]
     },
     "execution_count": 42,
     "metadata": {},
     "output_type": "execute_result"
    }
   ],
   "source": [
    "data.groupby(['Emission Class']).size()"
   ]
  },
  {
   "cell_type": "code",
   "execution_count": 43,
   "metadata": {},
   "outputs": [
    {
     "data": {
      "text/plain": [
       "87"
      ]
     },
     "execution_count": 43,
     "metadata": {},
     "output_type": "execute_result"
    }
   ],
   "source": [
    "data['Emission Class'].isnull().sum()"
   ]
  },
  {
   "cell_type": "code",
   "execution_count": 44,
   "metadata": {},
   "outputs": [],
   "source": [
    "data['Emission Class'].fillna('Euro 5', inplace = True)"
   ]
  },
  {
   "cell_type": "code",
   "execution_count": 45,
   "metadata": {},
   "outputs": [
    {
     "data": {
      "text/plain": [
       "0"
      ]
     },
     "execution_count": 45,
     "metadata": {},
     "output_type": "execute_result"
    }
   ],
   "source": [
    "data['Emission Class'].isnull().sum()"
   ]
  },
  {
   "cell_type": "code",
   "execution_count": 46,
   "metadata": {},
   "outputs": [
    {
     "data": {
      "text/html": [
       "<div>\n",
       "<style scoped>\n",
       "    .dataframe tbody tr th:only-of-type {\n",
       "        vertical-align: middle;\n",
       "    }\n",
       "\n",
       "    .dataframe tbody tr th {\n",
       "        vertical-align: top;\n",
       "    }\n",
       "\n",
       "    .dataframe thead th {\n",
       "        text-align: right;\n",
       "    }\n",
       "</style>\n",
       "<table border=\"1\" class=\"dataframe\">\n",
       "  <thead>\n",
       "    <tr style=\"text-align: right;\">\n",
       "      <th></th>\n",
       "      <th>Price</th>\n",
       "      <th>Mileage(miles)</th>\n",
       "      <th>Registration_Year</th>\n",
       "      <th>Previous Owners</th>\n",
       "      <th>Fuel type</th>\n",
       "      <th>Body type</th>\n",
       "      <th>Engine</th>\n",
       "      <th>Gearbox</th>\n",
       "      <th>Doors</th>\n",
       "      <th>Seats</th>\n",
       "      <th>Emission Class</th>\n",
       "      <th>Service history</th>\n",
       "    </tr>\n",
       "  </thead>\n",
       "  <tbody>\n",
       "    <tr>\n",
       "      <th>0</th>\n",
       "      <td>6900</td>\n",
       "      <td>70189</td>\n",
       "      <td>2016</td>\n",
       "      <td>3.0</td>\n",
       "      <td>0</td>\n",
       "      <td>Hatchback</td>\n",
       "      <td>1.4</td>\n",
       "      <td>1</td>\n",
       "      <td>5.0</td>\n",
       "      <td>5.0</td>\n",
       "      <td>Euro 6</td>\n",
       "      <td>NaN</td>\n",
       "    </tr>\n",
       "    <tr>\n",
       "      <th>1</th>\n",
       "      <td>1495</td>\n",
       "      <td>88585</td>\n",
       "      <td>2008</td>\n",
       "      <td>4.0</td>\n",
       "      <td>1</td>\n",
       "      <td>Hatchback</td>\n",
       "      <td>1.2</td>\n",
       "      <td>1</td>\n",
       "      <td>3.0</td>\n",
       "      <td>5.0</td>\n",
       "      <td>Euro 4</td>\n",
       "      <td>Full</td>\n",
       "    </tr>\n",
       "    <tr>\n",
       "      <th>2</th>\n",
       "      <td>949</td>\n",
       "      <td>137000</td>\n",
       "      <td>2011</td>\n",
       "      <td>1.0</td>\n",
       "      <td>1</td>\n",
       "      <td>Hatchback</td>\n",
       "      <td>1.4</td>\n",
       "      <td>1</td>\n",
       "      <td>5.0</td>\n",
       "      <td>5.0</td>\n",
       "      <td>Euro 5</td>\n",
       "      <td>NaN</td>\n",
       "    </tr>\n",
       "    <tr>\n",
       "      <th>3</th>\n",
       "      <td>2395</td>\n",
       "      <td>96731</td>\n",
       "      <td>2010</td>\n",
       "      <td>5.0</td>\n",
       "      <td>1</td>\n",
       "      <td>Hatchback</td>\n",
       "      <td>1.4</td>\n",
       "      <td>1</td>\n",
       "      <td>3.0</td>\n",
       "      <td>4.0</td>\n",
       "      <td>Euro 4</td>\n",
       "      <td>Full</td>\n",
       "    </tr>\n",
       "    <tr>\n",
       "      <th>4</th>\n",
       "      <td>1000</td>\n",
       "      <td>85000</td>\n",
       "      <td>2013</td>\n",
       "      <td>1.0</td>\n",
       "      <td>0</td>\n",
       "      <td>Hatchback</td>\n",
       "      <td>1.3</td>\n",
       "      <td>1</td>\n",
       "      <td>5.0</td>\n",
       "      <td>5.0</td>\n",
       "      <td>Euro 5</td>\n",
       "      <td>NaN</td>\n",
       "    </tr>\n",
       "  </tbody>\n",
       "</table>\n",
       "</div>"
      ],
      "text/plain": [
       "   Price  Mileage(miles)  Registration_Year  Previous Owners Fuel type  \\\n",
       "0   6900           70189               2016              3.0         0   \n",
       "1   1495           88585               2008              4.0         1   \n",
       "2    949          137000               2011              1.0         1   \n",
       "3   2395           96731               2010              5.0         1   \n",
       "4   1000           85000               2013              1.0         0   \n",
       "\n",
       "   Body type  Engine Gearbox  Doors  Seats Emission Class Service history  \n",
       "0  Hatchback     1.4       1    5.0    5.0         Euro 6             NaN  \n",
       "1  Hatchback     1.2       1    3.0    5.0         Euro 4            Full  \n",
       "2  Hatchback     1.4       1    5.0    5.0         Euro 5             NaN  \n",
       "3  Hatchback     1.4       1    3.0    4.0         Euro 4            Full  \n",
       "4  Hatchback     1.3       1    5.0    5.0         Euro 5             NaN  "
      ]
     },
     "execution_count": 46,
     "metadata": {},
     "output_type": "execute_result"
    }
   ],
   "source": [
    "data.head()"
   ]
  },
  {
   "cell_type": "markdown",
   "metadata": {},
   "source": [
    "### Tratamento de 'Service history'"
   ]
  },
  {
   "cell_type": "code",
   "execution_count": 47,
   "metadata": {},
   "outputs": [
    {
     "data": {
      "text/plain": [
       "Service history\n",
       "Full    540\n",
       "dtype: int64"
      ]
     },
     "execution_count": 47,
     "metadata": {},
     "output_type": "execute_result"
    }
   ],
   "source": [
    "data.groupby(['Service history']).size()"
   ]
  },
  {
   "cell_type": "code",
   "execution_count": 48,
   "metadata": {},
   "outputs": [
    {
     "data": {
      "text/plain": [
       "3145"
      ]
     },
     "execution_count": 48,
     "metadata": {},
     "output_type": "execute_result"
    }
   ],
   "source": [
    "data['Service history'].isnull().sum()"
   ]
  },
  {
   "cell_type": "code",
   "execution_count": 49,
   "metadata": {},
   "outputs": [],
   "source": [
    "data.loc[data['Service history'] == 'Full', 'Service history'] = 1"
   ]
  },
  {
   "cell_type": "code",
   "execution_count": 50,
   "metadata": {},
   "outputs": [],
   "source": [
    "data['Service history'].fillna(0, inplace = True)"
   ]
  },
  {
   "cell_type": "code",
   "execution_count": 51,
   "metadata": {},
   "outputs": [
    {
     "data": {
      "text/plain": [
       "Service history\n",
       "0    3145\n",
       "1     540\n",
       "dtype: int64"
      ]
     },
     "execution_count": 51,
     "metadata": {},
     "output_type": "execute_result"
    }
   ],
   "source": [
    "data.groupby(['Service history']).size()"
   ]
  },
  {
   "cell_type": "markdown",
   "metadata": {},
   "source": [
    "### Tabela Tratada"
   ]
  },
  {
   "cell_type": "code",
   "execution_count": 52,
   "metadata": {},
   "outputs": [],
   "source": [
    "data.columns = ['Price', 'Mileage(miles)', 'Registration Year', 'Previous Owners', 'Fuel Type', 'Body Type', 'Engine', 'Gearbox', 'Doors', 'Seats', 'Emission Class', 'Service History']"
   ]
  },
  {
   "cell_type": "code",
   "execution_count": 53,
   "metadata": {},
   "outputs": [
    {
     "data": {
      "text/html": [
       "<div>\n",
       "<style scoped>\n",
       "    .dataframe tbody tr th:only-of-type {\n",
       "        vertical-align: middle;\n",
       "    }\n",
       "\n",
       "    .dataframe tbody tr th {\n",
       "        vertical-align: top;\n",
       "    }\n",
       "\n",
       "    .dataframe thead th {\n",
       "        text-align: right;\n",
       "    }\n",
       "</style>\n",
       "<table border=\"1\" class=\"dataframe\">\n",
       "  <thead>\n",
       "    <tr style=\"text-align: right;\">\n",
       "      <th></th>\n",
       "      <th>Price</th>\n",
       "      <th>Mileage(miles)</th>\n",
       "      <th>Registration Year</th>\n",
       "      <th>Previous Owners</th>\n",
       "      <th>Fuel Type</th>\n",
       "      <th>Body Type</th>\n",
       "      <th>Engine</th>\n",
       "      <th>Gearbox</th>\n",
       "      <th>Doors</th>\n",
       "      <th>Seats</th>\n",
       "      <th>Emission Class</th>\n",
       "      <th>Service History</th>\n",
       "    </tr>\n",
       "  </thead>\n",
       "  <tbody>\n",
       "    <tr>\n",
       "      <th>0</th>\n",
       "      <td>6900</td>\n",
       "      <td>70189</td>\n",
       "      <td>2016</td>\n",
       "      <td>3.0</td>\n",
       "      <td>0</td>\n",
       "      <td>Hatchback</td>\n",
       "      <td>1.4</td>\n",
       "      <td>1</td>\n",
       "      <td>5.0</td>\n",
       "      <td>5.0</td>\n",
       "      <td>Euro 6</td>\n",
       "      <td>0</td>\n",
       "    </tr>\n",
       "    <tr>\n",
       "      <th>1</th>\n",
       "      <td>1495</td>\n",
       "      <td>88585</td>\n",
       "      <td>2008</td>\n",
       "      <td>4.0</td>\n",
       "      <td>1</td>\n",
       "      <td>Hatchback</td>\n",
       "      <td>1.2</td>\n",
       "      <td>1</td>\n",
       "      <td>3.0</td>\n",
       "      <td>5.0</td>\n",
       "      <td>Euro 4</td>\n",
       "      <td>1</td>\n",
       "    </tr>\n",
       "    <tr>\n",
       "      <th>2</th>\n",
       "      <td>949</td>\n",
       "      <td>137000</td>\n",
       "      <td>2011</td>\n",
       "      <td>1.0</td>\n",
       "      <td>1</td>\n",
       "      <td>Hatchback</td>\n",
       "      <td>1.4</td>\n",
       "      <td>1</td>\n",
       "      <td>5.0</td>\n",
       "      <td>5.0</td>\n",
       "      <td>Euro 5</td>\n",
       "      <td>0</td>\n",
       "    </tr>\n",
       "    <tr>\n",
       "      <th>3</th>\n",
       "      <td>2395</td>\n",
       "      <td>96731</td>\n",
       "      <td>2010</td>\n",
       "      <td>5.0</td>\n",
       "      <td>1</td>\n",
       "      <td>Hatchback</td>\n",
       "      <td>1.4</td>\n",
       "      <td>1</td>\n",
       "      <td>3.0</td>\n",
       "      <td>4.0</td>\n",
       "      <td>Euro 4</td>\n",
       "      <td>1</td>\n",
       "    </tr>\n",
       "    <tr>\n",
       "      <th>4</th>\n",
       "      <td>1000</td>\n",
       "      <td>85000</td>\n",
       "      <td>2013</td>\n",
       "      <td>1.0</td>\n",
       "      <td>0</td>\n",
       "      <td>Hatchback</td>\n",
       "      <td>1.3</td>\n",
       "      <td>1</td>\n",
       "      <td>5.0</td>\n",
       "      <td>5.0</td>\n",
       "      <td>Euro 5</td>\n",
       "      <td>0</td>\n",
       "    </tr>\n",
       "  </tbody>\n",
       "</table>\n",
       "</div>"
      ],
      "text/plain": [
       "   Price  Mileage(miles)  Registration Year  Previous Owners Fuel Type  \\\n",
       "0   6900           70189               2016              3.0         0   \n",
       "1   1495           88585               2008              4.0         1   \n",
       "2    949          137000               2011              1.0         1   \n",
       "3   2395           96731               2010              5.0         1   \n",
       "4   1000           85000               2013              1.0         0   \n",
       "\n",
       "   Body Type  Engine Gearbox  Doors  Seats Emission Class  Service History  \n",
       "0  Hatchback     1.4       1    5.0    5.0         Euro 6                0  \n",
       "1  Hatchback     1.2       1    3.0    5.0         Euro 4                1  \n",
       "2  Hatchback     1.4       1    5.0    5.0         Euro 5                0  \n",
       "3  Hatchback     1.4       1    3.0    4.0         Euro 4                1  \n",
       "4  Hatchback     1.3       1    5.0    5.0         Euro 5                0  "
      ]
     },
     "execution_count": 53,
     "metadata": {},
     "output_type": "execute_result"
    }
   ],
   "source": [
    "data.head()"
   ]
  },
  {
   "cell_type": "markdown",
   "metadata": {},
   "source": [
    "## Regressão"
   ]
  },
  {
   "cell_type": "code",
   "execution_count": 54,
   "metadata": {},
   "outputs": [],
   "source": [
    "from pycaret.regression import *"
   ]
  },
  {
   "cell_type": "code",
   "execution_count": 55,
   "metadata": {},
   "outputs": [
    {
     "data": {
      "text/html": [
       "<style type=\"text/css\">\n",
       "#T_346cc_row10_col1 {\n",
       "  background-color: lightgreen;\n",
       "}\n",
       "</style>\n",
       "<table id=\"T_346cc\">\n",
       "  <thead>\n",
       "    <tr>\n",
       "      <th class=\"blank level0\" >&nbsp;</th>\n",
       "      <th id=\"T_346cc_level0_col0\" class=\"col_heading level0 col0\" >Description</th>\n",
       "      <th id=\"T_346cc_level0_col1\" class=\"col_heading level0 col1\" >Value</th>\n",
       "    </tr>\n",
       "  </thead>\n",
       "  <tbody>\n",
       "    <tr>\n",
       "      <th id=\"T_346cc_level0_row0\" class=\"row_heading level0 row0\" >0</th>\n",
       "      <td id=\"T_346cc_row0_col0\" class=\"data row0 col0\" >Session id</td>\n",
       "      <td id=\"T_346cc_row0_col1\" class=\"data row0 col1\" >7775</td>\n",
       "    </tr>\n",
       "    <tr>\n",
       "      <th id=\"T_346cc_level0_row1\" class=\"row_heading level0 row1\" >1</th>\n",
       "      <td id=\"T_346cc_row1_col0\" class=\"data row1 col0\" >Target</td>\n",
       "      <td id=\"T_346cc_row1_col1\" class=\"data row1 col1\" >Price</td>\n",
       "    </tr>\n",
       "    <tr>\n",
       "      <th id=\"T_346cc_level0_row2\" class=\"row_heading level0 row2\" >2</th>\n",
       "      <td id=\"T_346cc_row2_col0\" class=\"data row2 col0\" >Target type</td>\n",
       "      <td id=\"T_346cc_row2_col1\" class=\"data row2 col1\" >Regression</td>\n",
       "    </tr>\n",
       "    <tr>\n",
       "      <th id=\"T_346cc_level0_row3\" class=\"row_heading level0 row3\" >3</th>\n",
       "      <td id=\"T_346cc_row3_col0\" class=\"data row3 col0\" >Original data shape</td>\n",
       "      <td id=\"T_346cc_row3_col1\" class=\"data row3 col1\" >(3685, 12)</td>\n",
       "    </tr>\n",
       "    <tr>\n",
       "      <th id=\"T_346cc_level0_row4\" class=\"row_heading level0 row4\" >4</th>\n",
       "      <td id=\"T_346cc_row4_col0\" class=\"data row4 col0\" >Transformed data shape</td>\n",
       "      <td id=\"T_346cc_row4_col1\" class=\"data row4 col1\" >(3685, 25)</td>\n",
       "    </tr>\n",
       "    <tr>\n",
       "      <th id=\"T_346cc_level0_row5\" class=\"row_heading level0 row5\" >5</th>\n",
       "      <td id=\"T_346cc_row5_col0\" class=\"data row5 col0\" >Transformed train set shape</td>\n",
       "      <td id=\"T_346cc_row5_col1\" class=\"data row5 col1\" >(2579, 25)</td>\n",
       "    </tr>\n",
       "    <tr>\n",
       "      <th id=\"T_346cc_level0_row6\" class=\"row_heading level0 row6\" >6</th>\n",
       "      <td id=\"T_346cc_row6_col0\" class=\"data row6 col0\" >Transformed test set shape</td>\n",
       "      <td id=\"T_346cc_row6_col1\" class=\"data row6 col1\" >(1106, 25)</td>\n",
       "    </tr>\n",
       "    <tr>\n",
       "      <th id=\"T_346cc_level0_row7\" class=\"row_heading level0 row7\" >7</th>\n",
       "      <td id=\"T_346cc_row7_col0\" class=\"data row7 col0\" >Ordinal features</td>\n",
       "      <td id=\"T_346cc_row7_col1\" class=\"data row7 col1\" >2</td>\n",
       "    </tr>\n",
       "    <tr>\n",
       "      <th id=\"T_346cc_level0_row8\" class=\"row_heading level0 row8\" >8</th>\n",
       "      <td id=\"T_346cc_row8_col0\" class=\"data row8 col0\" >Numeric features</td>\n",
       "      <td id=\"T_346cc_row8_col1\" class=\"data row8 col1\" >7</td>\n",
       "    </tr>\n",
       "    <tr>\n",
       "      <th id=\"T_346cc_level0_row9\" class=\"row_heading level0 row9\" >9</th>\n",
       "      <td id=\"T_346cc_row9_col0\" class=\"data row9 col0\" >Categorical features</td>\n",
       "      <td id=\"T_346cc_row9_col1\" class=\"data row9 col1\" >4</td>\n",
       "    </tr>\n",
       "    <tr>\n",
       "      <th id=\"T_346cc_level0_row10\" class=\"row_heading level0 row10\" >10</th>\n",
       "      <td id=\"T_346cc_row10_col0\" class=\"data row10 col0\" >Preprocess</td>\n",
       "      <td id=\"T_346cc_row10_col1\" class=\"data row10 col1\" >True</td>\n",
       "    </tr>\n",
       "    <tr>\n",
       "      <th id=\"T_346cc_level0_row11\" class=\"row_heading level0 row11\" >11</th>\n",
       "      <td id=\"T_346cc_row11_col0\" class=\"data row11 col0\" >Imputation type</td>\n",
       "      <td id=\"T_346cc_row11_col1\" class=\"data row11 col1\" >simple</td>\n",
       "    </tr>\n",
       "    <tr>\n",
       "      <th id=\"T_346cc_level0_row12\" class=\"row_heading level0 row12\" >12</th>\n",
       "      <td id=\"T_346cc_row12_col0\" class=\"data row12 col0\" >Numeric imputation</td>\n",
       "      <td id=\"T_346cc_row12_col1\" class=\"data row12 col1\" >mean</td>\n",
       "    </tr>\n",
       "    <tr>\n",
       "      <th id=\"T_346cc_level0_row13\" class=\"row_heading level0 row13\" >13</th>\n",
       "      <td id=\"T_346cc_row13_col0\" class=\"data row13 col0\" >Categorical imputation</td>\n",
       "      <td id=\"T_346cc_row13_col1\" class=\"data row13 col1\" >mode</td>\n",
       "    </tr>\n",
       "    <tr>\n",
       "      <th id=\"T_346cc_level0_row14\" class=\"row_heading level0 row14\" >14</th>\n",
       "      <td id=\"T_346cc_row14_col0\" class=\"data row14 col0\" >Maximum one-hot encoding</td>\n",
       "      <td id=\"T_346cc_row14_col1\" class=\"data row14 col1\" >25</td>\n",
       "    </tr>\n",
       "    <tr>\n",
       "      <th id=\"T_346cc_level0_row15\" class=\"row_heading level0 row15\" >15</th>\n",
       "      <td id=\"T_346cc_row15_col0\" class=\"data row15 col0\" >Encoding method</td>\n",
       "      <td id=\"T_346cc_row15_col1\" class=\"data row15 col1\" >None</td>\n",
       "    </tr>\n",
       "    <tr>\n",
       "      <th id=\"T_346cc_level0_row16\" class=\"row_heading level0 row16\" >16</th>\n",
       "      <td id=\"T_346cc_row16_col0\" class=\"data row16 col0\" >Fold Generator</td>\n",
       "      <td id=\"T_346cc_row16_col1\" class=\"data row16 col1\" >KFold</td>\n",
       "    </tr>\n",
       "    <tr>\n",
       "      <th id=\"T_346cc_level0_row17\" class=\"row_heading level0 row17\" >17</th>\n",
       "      <td id=\"T_346cc_row17_col0\" class=\"data row17 col0\" >Fold Number</td>\n",
       "      <td id=\"T_346cc_row17_col1\" class=\"data row17 col1\" >10</td>\n",
       "    </tr>\n",
       "    <tr>\n",
       "      <th id=\"T_346cc_level0_row18\" class=\"row_heading level0 row18\" >18</th>\n",
       "      <td id=\"T_346cc_row18_col0\" class=\"data row18 col0\" >CPU Jobs</td>\n",
       "      <td id=\"T_346cc_row18_col1\" class=\"data row18 col1\" >-1</td>\n",
       "    </tr>\n",
       "    <tr>\n",
       "      <th id=\"T_346cc_level0_row19\" class=\"row_heading level0 row19\" >19</th>\n",
       "      <td id=\"T_346cc_row19_col0\" class=\"data row19 col0\" >Use GPU</td>\n",
       "      <td id=\"T_346cc_row19_col1\" class=\"data row19 col1\" >False</td>\n",
       "    </tr>\n",
       "    <tr>\n",
       "      <th id=\"T_346cc_level0_row20\" class=\"row_heading level0 row20\" >20</th>\n",
       "      <td id=\"T_346cc_row20_col0\" class=\"data row20 col0\" >Log Experiment</td>\n",
       "      <td id=\"T_346cc_row20_col1\" class=\"data row20 col1\" >False</td>\n",
       "    </tr>\n",
       "    <tr>\n",
       "      <th id=\"T_346cc_level0_row21\" class=\"row_heading level0 row21\" >21</th>\n",
       "      <td id=\"T_346cc_row21_col0\" class=\"data row21 col0\" >Experiment Name</td>\n",
       "      <td id=\"T_346cc_row21_col1\" class=\"data row21 col1\" >reg-default-name</td>\n",
       "    </tr>\n",
       "    <tr>\n",
       "      <th id=\"T_346cc_level0_row22\" class=\"row_heading level0 row22\" >22</th>\n",
       "      <td id=\"T_346cc_row22_col0\" class=\"data row22 col0\" >USI</td>\n",
       "      <td id=\"T_346cc_row22_col1\" class=\"data row22 col1\" >1cb5</td>\n",
       "    </tr>\n",
       "  </tbody>\n",
       "</table>\n"
      ],
      "text/plain": [
       "<pandas.io.formats.style.Styler at 0x2e1efae0fd0>"
      ]
     },
     "metadata": {},
     "output_type": "display_data"
    }
   ],
   "source": [
    "s = setup(data, target = 'Price')"
   ]
  },
  {
   "cell_type": "code",
   "execution_count": 56,
   "metadata": {},
   "outputs": [
    {
     "data": {
      "text/html": [
       "<div>\n",
       "<style scoped>\n",
       "    .dataframe tbody tr th:only-of-type {\n",
       "        vertical-align: middle;\n",
       "    }\n",
       "\n",
       "    .dataframe tbody tr th {\n",
       "        vertical-align: top;\n",
       "    }\n",
       "\n",
       "    .dataframe thead th {\n",
       "        text-align: right;\n",
       "    }\n",
       "</style>\n",
       "<table border=\"1\" class=\"dataframe\">\n",
       "  <thead>\n",
       "    <tr style=\"text-align: right;\">\n",
       "      <th></th>\n",
       "      <th></th>\n",
       "      <th></th>\n",
       "    </tr>\n",
       "    <tr>\n",
       "      <th></th>\n",
       "      <th></th>\n",
       "      <th></th>\n",
       "    </tr>\n",
       "  </thead>\n",
       "  <tbody>\n",
       "    <tr>\n",
       "      <th>Initiated</th>\n",
       "      <td>. . . . . . . . . . . . . . . . . .</td>\n",
       "      <td>18:15:54</td>\n",
       "    </tr>\n",
       "    <tr>\n",
       "      <th>Status</th>\n",
       "      <td>. . . . . . . . . . . . . . . . . .</td>\n",
       "      <td>Loading Estimator</td>\n",
       "    </tr>\n",
       "    <tr>\n",
       "      <th>Estimator</th>\n",
       "      <td>. . . . . . . . . . . . . . . . . .</td>\n",
       "      <td>Linear Regression</td>\n",
       "    </tr>\n",
       "  </tbody>\n",
       "</table>\n",
       "</div>"
      ],
      "text/plain": [
       "                                                                 \n",
       "                                                                 \n",
       "Initiated  . . . . . . . . . . . . . . . . . .           18:15:54\n",
       "Status     . . . . . . . . . . . . . . . . . .  Loading Estimator\n",
       "Estimator  . . . . . . . . . . . . . . . . . .  Linear Regression"
      ]
     },
     "metadata": {},
     "output_type": "display_data"
    },
    {
     "data": {
      "text/html": [
       "<style type=\"text/css\">\n",
       "#T_2d8f5 th {\n",
       "  text-align: left;\n",
       "}\n",
       "#T_2d8f5_row0_col0, #T_2d8f5_row0_col1, #T_2d8f5_row0_col6, #T_2d8f5_row1_col0, #T_2d8f5_row1_col1, #T_2d8f5_row1_col2, #T_2d8f5_row1_col3, #T_2d8f5_row1_col4, #T_2d8f5_row1_col5, #T_2d8f5_row1_col6, #T_2d8f5_row2_col0, #T_2d8f5_row2_col2, #T_2d8f5_row2_col3, #T_2d8f5_row2_col4, #T_2d8f5_row2_col5, #T_2d8f5_row3_col0, #T_2d8f5_row3_col1, #T_2d8f5_row3_col2, #T_2d8f5_row3_col3, #T_2d8f5_row3_col4, #T_2d8f5_row3_col5, #T_2d8f5_row3_col6, #T_2d8f5_row4_col0, #T_2d8f5_row4_col1, #T_2d8f5_row4_col2, #T_2d8f5_row4_col3, #T_2d8f5_row4_col4, #T_2d8f5_row4_col5, #T_2d8f5_row4_col6, #T_2d8f5_row5_col0, #T_2d8f5_row5_col1, #T_2d8f5_row5_col2, #T_2d8f5_row5_col3, #T_2d8f5_row5_col4, #T_2d8f5_row5_col5, #T_2d8f5_row5_col6, #T_2d8f5_row6_col0, #T_2d8f5_row6_col1, #T_2d8f5_row6_col2, #T_2d8f5_row6_col3, #T_2d8f5_row6_col4, #T_2d8f5_row6_col5, #T_2d8f5_row6_col6, #T_2d8f5_row7_col0, #T_2d8f5_row7_col1, #T_2d8f5_row7_col2, #T_2d8f5_row7_col3, #T_2d8f5_row7_col4, #T_2d8f5_row7_col5, #T_2d8f5_row7_col6, #T_2d8f5_row8_col0, #T_2d8f5_row8_col1, #T_2d8f5_row8_col2, #T_2d8f5_row8_col3, #T_2d8f5_row8_col4, #T_2d8f5_row8_col5, #T_2d8f5_row8_col6, #T_2d8f5_row9_col0, #T_2d8f5_row9_col1, #T_2d8f5_row9_col2, #T_2d8f5_row9_col3, #T_2d8f5_row9_col4, #T_2d8f5_row9_col5, #T_2d8f5_row9_col6, #T_2d8f5_row10_col0, #T_2d8f5_row10_col1, #T_2d8f5_row10_col2, #T_2d8f5_row10_col3, #T_2d8f5_row10_col4, #T_2d8f5_row10_col5, #T_2d8f5_row10_col6, #T_2d8f5_row11_col0, #T_2d8f5_row11_col1, #T_2d8f5_row11_col2, #T_2d8f5_row11_col3, #T_2d8f5_row11_col4, #T_2d8f5_row11_col5, #T_2d8f5_row11_col6, #T_2d8f5_row12_col0, #T_2d8f5_row12_col1, #T_2d8f5_row12_col2, #T_2d8f5_row12_col3, #T_2d8f5_row12_col4, #T_2d8f5_row12_col5, #T_2d8f5_row12_col6, #T_2d8f5_row13_col0, #T_2d8f5_row13_col1, #T_2d8f5_row13_col2, #T_2d8f5_row13_col3, #T_2d8f5_row13_col4, #T_2d8f5_row13_col5, #T_2d8f5_row13_col6, #T_2d8f5_row14_col0, #T_2d8f5_row14_col1, #T_2d8f5_row14_col2, #T_2d8f5_row14_col3, #T_2d8f5_row14_col4, #T_2d8f5_row14_col5, #T_2d8f5_row14_col6, #T_2d8f5_row15_col0, #T_2d8f5_row15_col1, #T_2d8f5_row15_col2, #T_2d8f5_row15_col3, #T_2d8f5_row15_col4, #T_2d8f5_row15_col5, #T_2d8f5_row15_col6, #T_2d8f5_row16_col0, #T_2d8f5_row16_col1, #T_2d8f5_row16_col2, #T_2d8f5_row16_col3, #T_2d8f5_row16_col4, #T_2d8f5_row16_col5, #T_2d8f5_row16_col6, #T_2d8f5_row17_col0, #T_2d8f5_row17_col1, #T_2d8f5_row17_col2, #T_2d8f5_row17_col3, #T_2d8f5_row17_col4, #T_2d8f5_row17_col5, #T_2d8f5_row17_col6 {\n",
       "  text-align: left;\n",
       "}\n",
       "#T_2d8f5_row0_col2, #T_2d8f5_row0_col3, #T_2d8f5_row0_col4, #T_2d8f5_row0_col5, #T_2d8f5_row2_col1, #T_2d8f5_row2_col6 {\n",
       "  text-align: left;\n",
       "  background-color: yellow;\n",
       "}\n",
       "#T_2d8f5_row0_col7, #T_2d8f5_row1_col7, #T_2d8f5_row2_col7, #T_2d8f5_row3_col7, #T_2d8f5_row4_col7, #T_2d8f5_row7_col7, #T_2d8f5_row8_col7, #T_2d8f5_row9_col7, #T_2d8f5_row10_col7, #T_2d8f5_row11_col7, #T_2d8f5_row12_col7, #T_2d8f5_row14_col7, #T_2d8f5_row15_col7, #T_2d8f5_row16_col7, #T_2d8f5_row17_col7 {\n",
       "  text-align: left;\n",
       "  background-color: lightgrey;\n",
       "}\n",
       "#T_2d8f5_row5_col7, #T_2d8f5_row6_col7, #T_2d8f5_row13_col7 {\n",
       "  text-align: left;\n",
       "  background-color: yellow;\n",
       "  background-color: lightgrey;\n",
       "}\n",
       "</style>\n",
       "<table id=\"T_2d8f5\">\n",
       "  <thead>\n",
       "    <tr>\n",
       "      <th class=\"blank level0\" >&nbsp;</th>\n",
       "      <th id=\"T_2d8f5_level0_col0\" class=\"col_heading level0 col0\" >Model</th>\n",
       "      <th id=\"T_2d8f5_level0_col1\" class=\"col_heading level0 col1\" >MAE</th>\n",
       "      <th id=\"T_2d8f5_level0_col2\" class=\"col_heading level0 col2\" >MSE</th>\n",
       "      <th id=\"T_2d8f5_level0_col3\" class=\"col_heading level0 col3\" >RMSE</th>\n",
       "      <th id=\"T_2d8f5_level0_col4\" class=\"col_heading level0 col4\" >R2</th>\n",
       "      <th id=\"T_2d8f5_level0_col5\" class=\"col_heading level0 col5\" >RMSLE</th>\n",
       "      <th id=\"T_2d8f5_level0_col6\" class=\"col_heading level0 col6\" >MAPE</th>\n",
       "      <th id=\"T_2d8f5_level0_col7\" class=\"col_heading level0 col7\" >TT (Sec)</th>\n",
       "    </tr>\n",
       "  </thead>\n",
       "  <tbody>\n",
       "    <tr>\n",
       "      <th id=\"T_2d8f5_level0_row0\" class=\"row_heading level0 row0\" >lightgbm</th>\n",
       "      <td id=\"T_2d8f5_row0_col0\" class=\"data row0 col0\" >Light Gradient Boosting Machine</td>\n",
       "      <td id=\"T_2d8f5_row0_col1\" class=\"data row0 col1\" >936.9609</td>\n",
       "      <td id=\"T_2d8f5_row0_col2\" class=\"data row0 col2\" >2350944.0064</td>\n",
       "      <td id=\"T_2d8f5_row0_col3\" class=\"data row0 col3\" >1524.4577</td>\n",
       "      <td id=\"T_2d8f5_row0_col4\" class=\"data row0 col4\" >0.8813</td>\n",
       "      <td id=\"T_2d8f5_row0_col5\" class=\"data row0 col5\" >0.2989</td>\n",
       "      <td id=\"T_2d8f5_row0_col6\" class=\"data row0 col6\" >0.2291</td>\n",
       "      <td id=\"T_2d8f5_row0_col7\" class=\"data row0 col7\" >0.1240</td>\n",
       "    </tr>\n",
       "    <tr>\n",
       "      <th id=\"T_2d8f5_level0_row1\" class=\"row_heading level0 row1\" >gbr</th>\n",
       "      <td id=\"T_2d8f5_row1_col0\" class=\"data row1 col0\" >Gradient Boosting Regressor</td>\n",
       "      <td id=\"T_2d8f5_row1_col1\" class=\"data row1 col1\" >1049.3404</td>\n",
       "      <td id=\"T_2d8f5_row1_col2\" class=\"data row1 col2\" >2476759.2002</td>\n",
       "      <td id=\"T_2d8f5_row1_col3\" class=\"data row1 col3\" >1564.0683</td>\n",
       "      <td id=\"T_2d8f5_row1_col4\" class=\"data row1 col4\" >0.8756</td>\n",
       "      <td id=\"T_2d8f5_row1_col5\" class=\"data row1 col5\" >0.3224</td>\n",
       "      <td id=\"T_2d8f5_row1_col6\" class=\"data row1 col6\" >0.2648</td>\n",
       "      <td id=\"T_2d8f5_row1_col7\" class=\"data row1 col7\" >0.1020</td>\n",
       "    </tr>\n",
       "    <tr>\n",
       "      <th id=\"T_2d8f5_level0_row2\" class=\"row_heading level0 row2\" >rf</th>\n",
       "      <td id=\"T_2d8f5_row2_col0\" class=\"data row2 col0\" >Random Forest Regressor</td>\n",
       "      <td id=\"T_2d8f5_row2_col1\" class=\"data row2 col1\" >924.1959</td>\n",
       "      <td id=\"T_2d8f5_row2_col2\" class=\"data row2 col2\" >2557193.3066</td>\n",
       "      <td id=\"T_2d8f5_row2_col3\" class=\"data row2 col3\" >1583.1106</td>\n",
       "      <td id=\"T_2d8f5_row2_col4\" class=\"data row2 col4\" >0.8721</td>\n",
       "      <td id=\"T_2d8f5_row2_col5\" class=\"data row2 col5\" >0.3008</td>\n",
       "      <td id=\"T_2d8f5_row2_col6\" class=\"data row2 col6\" >0.2226</td>\n",
       "      <td id=\"T_2d8f5_row2_col7\" class=\"data row2 col7\" >0.2420</td>\n",
       "    </tr>\n",
       "    <tr>\n",
       "      <th id=\"T_2d8f5_level0_row3\" class=\"row_heading level0 row3\" >et</th>\n",
       "      <td id=\"T_2d8f5_row3_col0\" class=\"data row3 col0\" >Extra Trees Regressor</td>\n",
       "      <td id=\"T_2d8f5_row3_col1\" class=\"data row3 col1\" >957.6600</td>\n",
       "      <td id=\"T_2d8f5_row3_col2\" class=\"data row3 col2\" >2768687.7956</td>\n",
       "      <td id=\"T_2d8f5_row3_col3\" class=\"data row3 col3\" >1650.1895</td>\n",
       "      <td id=\"T_2d8f5_row3_col4\" class=\"data row3 col4\" >0.8601</td>\n",
       "      <td id=\"T_2d8f5_row3_col5\" class=\"data row3 col5\" >0.3163</td>\n",
       "      <td id=\"T_2d8f5_row3_col6\" class=\"data row3 col6\" >0.2331</td>\n",
       "      <td id=\"T_2d8f5_row3_col7\" class=\"data row3 col7\" >0.1930</td>\n",
       "    </tr>\n",
       "    <tr>\n",
       "      <th id=\"T_2d8f5_level0_row4\" class=\"row_heading level0 row4\" >dt</th>\n",
       "      <td id=\"T_2d8f5_row4_col0\" class=\"data row4 col0\" >Decision Tree Regressor</td>\n",
       "      <td id=\"T_2d8f5_row4_col1\" class=\"data row4 col1\" >1231.6124</td>\n",
       "      <td id=\"T_2d8f5_row4_col2\" class=\"data row4 col2\" >4349109.2243</td>\n",
       "      <td id=\"T_2d8f5_row4_col3\" class=\"data row4 col3\" >2074.1111</td>\n",
       "      <td id=\"T_2d8f5_row4_col4\" class=\"data row4 col4\" >0.7804</td>\n",
       "      <td id=\"T_2d8f5_row4_col5\" class=\"data row4 col5\" >0.4025</td>\n",
       "      <td id=\"T_2d8f5_row4_col6\" class=\"data row4 col6\" >0.2921</td>\n",
       "      <td id=\"T_2d8f5_row4_col7\" class=\"data row4 col7\" >0.0470</td>\n",
       "    </tr>\n",
       "    <tr>\n",
       "      <th id=\"T_2d8f5_level0_row5\" class=\"row_heading level0 row5\" >br</th>\n",
       "      <td id=\"T_2d8f5_row5_col0\" class=\"data row5 col0\" >Bayesian Ridge</td>\n",
       "      <td id=\"T_2d8f5_row5_col1\" class=\"data row5 col1\" >1512.4379</td>\n",
       "      <td id=\"T_2d8f5_row5_col2\" class=\"data row5 col2\" >5618844.4397</td>\n",
       "      <td id=\"T_2d8f5_row5_col3\" class=\"data row5 col3\" >2327.1997</td>\n",
       "      <td id=\"T_2d8f5_row5_col4\" class=\"data row5 col4\" >0.7185</td>\n",
       "      <td id=\"T_2d8f5_row5_col5\" class=\"data row5 col5\" >0.5183</td>\n",
       "      <td id=\"T_2d8f5_row5_col6\" class=\"data row5 col6\" >0.3798</td>\n",
       "      <td id=\"T_2d8f5_row5_col7\" class=\"data row5 col7\" >0.0380</td>\n",
       "    </tr>\n",
       "    <tr>\n",
       "      <th id=\"T_2d8f5_level0_row6\" class=\"row_heading level0 row6\" >ridge</th>\n",
       "      <td id=\"T_2d8f5_row6_col0\" class=\"data row6 col0\" >Ridge Regression</td>\n",
       "      <td id=\"T_2d8f5_row6_col1\" class=\"data row6 col1\" >1514.0319</td>\n",
       "      <td id=\"T_2d8f5_row6_col2\" class=\"data row6 col2\" >5626529.3643</td>\n",
       "      <td id=\"T_2d8f5_row6_col3\" class=\"data row6 col3\" >2328.0921</td>\n",
       "      <td id=\"T_2d8f5_row6_col4\" class=\"data row6 col4\" >0.7181</td>\n",
       "      <td id=\"T_2d8f5_row6_col5\" class=\"data row6 col5\" >0.5259</td>\n",
       "      <td id=\"T_2d8f5_row6_col6\" class=\"data row6 col6\" >0.3805</td>\n",
       "      <td id=\"T_2d8f5_row6_col7\" class=\"data row6 col7\" >0.0380</td>\n",
       "    </tr>\n",
       "    <tr>\n",
       "      <th id=\"T_2d8f5_level0_row7\" class=\"row_heading level0 row7\" >lasso</th>\n",
       "      <td id=\"T_2d8f5_row7_col0\" class=\"data row7 col0\" >Lasso Regression</td>\n",
       "      <td id=\"T_2d8f5_row7_col1\" class=\"data row7 col1\" >1514.3582</td>\n",
       "      <td id=\"T_2d8f5_row7_col2\" class=\"data row7 col2\" >5639088.3426</td>\n",
       "      <td id=\"T_2d8f5_row7_col3\" class=\"data row7 col3\" >2330.4983</td>\n",
       "      <td id=\"T_2d8f5_row7_col4\" class=\"data row7 col4\" >0.7174</td>\n",
       "      <td id=\"T_2d8f5_row7_col5\" class=\"data row7 col5\" >0.5199</td>\n",
       "      <td id=\"T_2d8f5_row7_col6\" class=\"data row7 col6\" >0.3804</td>\n",
       "      <td id=\"T_2d8f5_row7_col7\" class=\"data row7 col7\" >0.0430</td>\n",
       "    </tr>\n",
       "    <tr>\n",
       "      <th id=\"T_2d8f5_level0_row8\" class=\"row_heading level0 row8\" >llar</th>\n",
       "      <td id=\"T_2d8f5_row8_col0\" class=\"data row8 col0\" >Lasso Least Angle Regression</td>\n",
       "      <td id=\"T_2d8f5_row8_col1\" class=\"data row8 col1\" >1514.3605</td>\n",
       "      <td id=\"T_2d8f5_row8_col2\" class=\"data row8 col2\" >5639082.7965</td>\n",
       "      <td id=\"T_2d8f5_row8_col3\" class=\"data row8 col3\" >2330.4981</td>\n",
       "      <td id=\"T_2d8f5_row8_col4\" class=\"data row8 col4\" >0.7174</td>\n",
       "      <td id=\"T_2d8f5_row8_col5\" class=\"data row8 col5\" >0.5200</td>\n",
       "      <td id=\"T_2d8f5_row8_col6\" class=\"data row8 col6\" >0.3804</td>\n",
       "      <td id=\"T_2d8f5_row8_col7\" class=\"data row8 col7\" >0.0470</td>\n",
       "    </tr>\n",
       "    <tr>\n",
       "      <th id=\"T_2d8f5_level0_row9\" class=\"row_heading level0 row9\" >lr</th>\n",
       "      <td id=\"T_2d8f5_row9_col0\" class=\"data row9 col0\" >Linear Regression</td>\n",
       "      <td id=\"T_2d8f5_row9_col1\" class=\"data row9 col1\" >1516.6115</td>\n",
       "      <td id=\"T_2d8f5_row9_col2\" class=\"data row9 col2\" >5643478.8598</td>\n",
       "      <td id=\"T_2d8f5_row9_col3\" class=\"data row9 col3\" >2330.9051</td>\n",
       "      <td id=\"T_2d8f5_row9_col4\" class=\"data row9 col4\" >0.7171</td>\n",
       "      <td id=\"T_2d8f5_row9_col5\" class=\"data row9 col5\" >0.5278</td>\n",
       "      <td id=\"T_2d8f5_row9_col6\" class=\"data row9 col6\" >0.3812</td>\n",
       "      <td id=\"T_2d8f5_row9_col7\" class=\"data row9 col7\" >0.6450</td>\n",
       "    </tr>\n",
       "    <tr>\n",
       "      <th id=\"T_2d8f5_level0_row10\" class=\"row_heading level0 row10\" >ada</th>\n",
       "      <td id=\"T_2d8f5_row10_col0\" class=\"data row10 col0\" >AdaBoost Regressor</td>\n",
       "      <td id=\"T_2d8f5_row10_col1\" class=\"data row10 col1\" >2139.5991</td>\n",
       "      <td id=\"T_2d8f5_row10_col2\" class=\"data row10 col2\" >6475859.6105</td>\n",
       "      <td id=\"T_2d8f5_row10_col3\" class=\"data row10 col3\" >2541.0340</td>\n",
       "      <td id=\"T_2d8f5_row10_col4\" class=\"data row10 col4\" >0.6732</td>\n",
       "      <td id=\"T_2d8f5_row10_col5\" class=\"data row10 col5\" >0.6475</td>\n",
       "      <td id=\"T_2d8f5_row10_col6\" class=\"data row10 col6\" >0.8055</td>\n",
       "      <td id=\"T_2d8f5_row10_col7\" class=\"data row10 col7\" >0.0850</td>\n",
       "    </tr>\n",
       "    <tr>\n",
       "      <th id=\"T_2d8f5_level0_row11\" class=\"row_heading level0 row11\" >en</th>\n",
       "      <td id=\"T_2d8f5_row11_col0\" class=\"data row11 col0\" >Elastic Net</td>\n",
       "      <td id=\"T_2d8f5_row11_col1\" class=\"data row11 col1\" >1688.4789</td>\n",
       "      <td id=\"T_2d8f5_row11_col2\" class=\"data row11 col2\" >7094921.1476</td>\n",
       "      <td id=\"T_2d8f5_row11_col3\" class=\"data row11 col3\" >2616.6597</td>\n",
       "      <td id=\"T_2d8f5_row11_col4\" class=\"data row11 col4\" >0.6450</td>\n",
       "      <td id=\"T_2d8f5_row11_col5\" class=\"data row11 col5\" >0.5307</td>\n",
       "      <td id=\"T_2d8f5_row11_col6\" class=\"data row11 col6\" >0.4549</td>\n",
       "      <td id=\"T_2d8f5_row11_col7\" class=\"data row11 col7\" >0.0420</td>\n",
       "    </tr>\n",
       "    <tr>\n",
       "      <th id=\"T_2d8f5_level0_row12\" class=\"row_heading level0 row12\" >knn</th>\n",
       "      <td id=\"T_2d8f5_row12_col0\" class=\"data row12 col0\" >K Neighbors Regressor</td>\n",
       "      <td id=\"T_2d8f5_row12_col1\" class=\"data row12 col1\" >1886.3778</td>\n",
       "      <td id=\"T_2d8f5_row12_col2\" class=\"data row12 col2\" >9449821.7907</td>\n",
       "      <td id=\"T_2d8f5_row12_col3\" class=\"data row12 col3\" >3058.4086</td>\n",
       "      <td id=\"T_2d8f5_row12_col4\" class=\"data row12 col4\" >0.5299</td>\n",
       "      <td id=\"T_2d8f5_row12_col5\" class=\"data row12 col5\" >0.5686</td>\n",
       "      <td id=\"T_2d8f5_row12_col6\" class=\"data row12 col6\" >0.5068</td>\n",
       "      <td id=\"T_2d8f5_row12_col7\" class=\"data row12 col7\" >0.0670</td>\n",
       "    </tr>\n",
       "    <tr>\n",
       "      <th id=\"T_2d8f5_level0_row13\" class=\"row_heading level0 row13\" >omp</th>\n",
       "      <td id=\"T_2d8f5_row13_col0\" class=\"data row13 col0\" >Orthogonal Matching Pursuit</td>\n",
       "      <td id=\"T_2d8f5_row13_col1\" class=\"data row13 col1\" >2052.1103</td>\n",
       "      <td id=\"T_2d8f5_row13_col2\" class=\"data row13 col2\" >9410061.6924</td>\n",
       "      <td id=\"T_2d8f5_row13_col3\" class=\"data row13 col3\" >3031.1166</td>\n",
       "      <td id=\"T_2d8f5_row13_col4\" class=\"data row13 col4\" >0.5290</td>\n",
       "      <td id=\"T_2d8f5_row13_col5\" class=\"data row13 col5\" >0.6154</td>\n",
       "      <td id=\"T_2d8f5_row13_col6\" class=\"data row13 col6\" >0.5685</td>\n",
       "      <td id=\"T_2d8f5_row13_col7\" class=\"data row13 col7\" >0.0380</td>\n",
       "    </tr>\n",
       "    <tr>\n",
       "      <th id=\"T_2d8f5_level0_row14\" class=\"row_heading level0 row14\" >lar</th>\n",
       "      <td id=\"T_2d8f5_row14_col0\" class=\"data row14 col0\" >Least Angle Regression</td>\n",
       "      <td id=\"T_2d8f5_row14_col1\" class=\"data row14 col1\" >1845.9734</td>\n",
       "      <td id=\"T_2d8f5_row14_col2\" class=\"data row14 col2\" >10780899.3166</td>\n",
       "      <td id=\"T_2d8f5_row14_col3\" class=\"data row14 col3\" >3000.3376</td>\n",
       "      <td id=\"T_2d8f5_row14_col4\" class=\"data row14 col4\" >0.4239</td>\n",
       "      <td id=\"T_2d8f5_row14_col5\" class=\"data row14 col5\" >0.5915</td>\n",
       "      <td id=\"T_2d8f5_row14_col6\" class=\"data row14 col6\" >0.4885</td>\n",
       "      <td id=\"T_2d8f5_row14_col7\" class=\"data row14 col7\" >0.0410</td>\n",
       "    </tr>\n",
       "    <tr>\n",
       "      <th id=\"T_2d8f5_level0_row15\" class=\"row_heading level0 row15\" >huber</th>\n",
       "      <td id=\"T_2d8f5_row15_col0\" class=\"data row15 col0\" >Huber Regressor</td>\n",
       "      <td id=\"T_2d8f5_row15_col1\" class=\"data row15 col1\" >2640.5291</td>\n",
       "      <td id=\"T_2d8f5_row15_col2\" class=\"data row15 col2\" >14422540.3016</td>\n",
       "      <td id=\"T_2d8f5_row15_col3\" class=\"data row15 col3\" >3735.7879</td>\n",
       "      <td id=\"T_2d8f5_row15_col4\" class=\"data row15 col4\" >0.2835</td>\n",
       "      <td id=\"T_2d8f5_row15_col5\" class=\"data row15 col5\" >0.7707</td>\n",
       "      <td id=\"T_2d8f5_row15_col6\" class=\"data row15 col6\" >0.7026</td>\n",
       "      <td id=\"T_2d8f5_row15_col7\" class=\"data row15 col7\" >0.0510</td>\n",
       "    </tr>\n",
       "    <tr>\n",
       "      <th id=\"T_2d8f5_level0_row16\" class=\"row_heading level0 row16\" >dummy</th>\n",
       "      <td id=\"T_2d8f5_row16_col0\" class=\"data row16 col0\" >Dummy Regressor</td>\n",
       "      <td id=\"T_2d8f5_row16_col1\" class=\"data row16 col1\" >3563.6087</td>\n",
       "      <td id=\"T_2d8f5_row16_col2\" class=\"data row16 col2\" >20150847.9564</td>\n",
       "      <td id=\"T_2d8f5_row16_col3\" class=\"data row16 col3\" >4480.8797</td>\n",
       "      <td id=\"T_2d8f5_row16_col4\" class=\"data row16 col4\" >-0.0055</td>\n",
       "      <td id=\"T_2d8f5_row16_col5\" class=\"data row16 col5\" >0.8246</td>\n",
       "      <td id=\"T_2d8f5_row16_col6\" class=\"data row16 col6\" >1.0766</td>\n",
       "      <td id=\"T_2d8f5_row16_col7\" class=\"data row16 col7\" >0.0400</td>\n",
       "    </tr>\n",
       "    <tr>\n",
       "      <th id=\"T_2d8f5_level0_row17\" class=\"row_heading level0 row17\" >par</th>\n",
       "      <td id=\"T_2d8f5_row17_col0\" class=\"data row17 col0\" >Passive Aggressive Regressor</td>\n",
       "      <td id=\"T_2d8f5_row17_col1\" class=\"data row17 col1\" >4826.4838</td>\n",
       "      <td id=\"T_2d8f5_row17_col2\" class=\"data row17 col2\" >50509614.6207</td>\n",
       "      <td id=\"T_2d8f5_row17_col3\" class=\"data row17 col3\" >6664.4153</td>\n",
       "      <td id=\"T_2d8f5_row17_col4\" class=\"data row17 col4\" >-1.4969</td>\n",
       "      <td id=\"T_2d8f5_row17_col5\" class=\"data row17 col5\" >1.0551</td>\n",
       "      <td id=\"T_2d8f5_row17_col6\" class=\"data row17 col6\" >1.6071</td>\n",
       "      <td id=\"T_2d8f5_row17_col7\" class=\"data row17 col7\" >0.0410</td>\n",
       "    </tr>\n",
       "  </tbody>\n",
       "</table>\n"
      ],
      "text/plain": [
       "<pandas.io.formats.style.Styler at 0x2e1ede93be0>"
      ]
     },
     "metadata": {},
     "output_type": "display_data"
    },
    {
     "data": {
      "text/html": [],
      "text/plain": [
       "<IPython.core.display.HTML object>"
      ]
     },
     "metadata": {},
     "output_type": "display_data"
    }
   ],
   "source": [
    "best = compare_models()"
   ]
  },
  {
   "cell_type": "code",
   "execution_count": 57,
   "metadata": {},
   "outputs": [
    {
     "data": {
      "text/html": [
       "<style>#sk-container-id-1 {color: black;background-color: white;}#sk-container-id-1 pre{padding: 0;}#sk-container-id-1 div.sk-toggleable {background-color: white;}#sk-container-id-1 label.sk-toggleable__label {cursor: pointer;display: block;width: 100%;margin-bottom: 0;padding: 0.3em;box-sizing: border-box;text-align: center;}#sk-container-id-1 label.sk-toggleable__label-arrow:before {content: \"▸\";float: left;margin-right: 0.25em;color: #696969;}#sk-container-id-1 label.sk-toggleable__label-arrow:hover:before {color: black;}#sk-container-id-1 div.sk-estimator:hover label.sk-toggleable__label-arrow:before {color: black;}#sk-container-id-1 div.sk-toggleable__content {max-height: 0;max-width: 0;overflow: hidden;text-align: left;background-color: #f0f8ff;}#sk-container-id-1 div.sk-toggleable__content pre {margin: 0.2em;color: black;border-radius: 0.25em;background-color: #f0f8ff;}#sk-container-id-1 input.sk-toggleable__control:checked~div.sk-toggleable__content {max-height: 200px;max-width: 100%;overflow: auto;}#sk-container-id-1 input.sk-toggleable__control:checked~label.sk-toggleable__label-arrow:before {content: \"▾\";}#sk-container-id-1 div.sk-estimator input.sk-toggleable__control:checked~label.sk-toggleable__label {background-color: #d4ebff;}#sk-container-id-1 div.sk-label input.sk-toggleable__control:checked~label.sk-toggleable__label {background-color: #d4ebff;}#sk-container-id-1 input.sk-hidden--visually {border: 0;clip: rect(1px 1px 1px 1px);clip: rect(1px, 1px, 1px, 1px);height: 1px;margin: -1px;overflow: hidden;padding: 0;position: absolute;width: 1px;}#sk-container-id-1 div.sk-estimator {font-family: monospace;background-color: #f0f8ff;border: 1px dotted black;border-radius: 0.25em;box-sizing: border-box;margin-bottom: 0.5em;}#sk-container-id-1 div.sk-estimator:hover {background-color: #d4ebff;}#sk-container-id-1 div.sk-parallel-item::after {content: \"\";width: 100%;border-bottom: 1px solid gray;flex-grow: 1;}#sk-container-id-1 div.sk-label:hover label.sk-toggleable__label {background-color: #d4ebff;}#sk-container-id-1 div.sk-serial::before {content: \"\";position: absolute;border-left: 1px solid gray;box-sizing: border-box;top: 0;bottom: 0;left: 50%;z-index: 0;}#sk-container-id-1 div.sk-serial {display: flex;flex-direction: column;align-items: center;background-color: white;padding-right: 0.2em;padding-left: 0.2em;position: relative;}#sk-container-id-1 div.sk-item {position: relative;z-index: 1;}#sk-container-id-1 div.sk-parallel {display: flex;align-items: stretch;justify-content: center;background-color: white;position: relative;}#sk-container-id-1 div.sk-item::before, #sk-container-id-1 div.sk-parallel-item::before {content: \"\";position: absolute;border-left: 1px solid gray;box-sizing: border-box;top: 0;bottom: 0;left: 50%;z-index: -1;}#sk-container-id-1 div.sk-parallel-item {display: flex;flex-direction: column;z-index: 1;position: relative;background-color: white;}#sk-container-id-1 div.sk-parallel-item:first-child::after {align-self: flex-end;width: 50%;}#sk-container-id-1 div.sk-parallel-item:last-child::after {align-self: flex-start;width: 50%;}#sk-container-id-1 div.sk-parallel-item:only-child::after {width: 0;}#sk-container-id-1 div.sk-dashed-wrapped {border: 1px dashed gray;margin: 0 0.4em 0.5em 0.4em;box-sizing: border-box;padding-bottom: 0.4em;background-color: white;}#sk-container-id-1 div.sk-label label {font-family: monospace;font-weight: bold;display: inline-block;line-height: 1.2em;}#sk-container-id-1 div.sk-label-container {text-align: center;}#sk-container-id-1 div.sk-container {/* jupyter's `normalize.less` sets `[hidden] { display: none; }` but bootstrap.min.css set `[hidden] { display: none !important; }` so we also need the `!important` here to be able to override the default hidden behavior on the sphinx rendered scikit-learn.org. See: https://github.com/scikit-learn/scikit-learn/issues/21755 */display: inline-block !important;position: relative;}#sk-container-id-1 div.sk-text-repr-fallback {display: none;}</style><div id=\"sk-container-id-1\" class=\"sk-top-container\"><div class=\"sk-text-repr-fallback\"><pre>LGBMRegressor(n_jobs=-1, random_state=7775)</pre><b>In a Jupyter environment, please rerun this cell to show the HTML representation or trust the notebook. <br />On GitHub, the HTML representation is unable to render, please try loading this page with nbviewer.org.</b></div><div class=\"sk-container\" hidden><div class=\"sk-item\"><div class=\"sk-estimator sk-toggleable\"><input class=\"sk-toggleable__control sk-hidden--visually\" id=\"sk-estimator-id-1\" type=\"checkbox\" checked><label for=\"sk-estimator-id-1\" class=\"sk-toggleable__label sk-toggleable__label-arrow\">LGBMRegressor</label><div class=\"sk-toggleable__content\"><pre>LGBMRegressor(n_jobs=-1, random_state=7775)</pre></div></div></div></div></div>"
      ],
      "text/plain": [
       "LGBMRegressor(n_jobs=-1, random_state=7775)"
      ]
     },
     "execution_count": 57,
     "metadata": {},
     "output_type": "execute_result"
    }
   ],
   "source": [
    "best"
   ]
  },
  {
   "cell_type": "code",
   "execution_count": 58,
   "metadata": {},
   "outputs": [
    {
     "data": {
      "text/html": [],
      "text/plain": [
       "<IPython.core.display.HTML object>"
      ]
     },
     "metadata": {},
     "output_type": "display_data"
    },
    {
     "data": {
      "image/png": "[encoded data removed]",
      "text/plain": [
       "<Figure size 800x550 with 2 Axes>"
      ]
     },
     "metadata": {},
     "output_type": "display_data"
    }
   ],
   "source": [
    "plot_model(best, plot='residuals')"
   ]
  },
  {
   "cell_type": "code",
   "execution_count": 59,
   "metadata": {},
   "outputs": [
    {
     "data": {
      "text/html": [],
      "text/plain": [
       "<IPython.core.display.HTML object>"
      ]
     },
     "metadata": {},
     "output_type": "display_data"
    },
    {
     "data": {
      "image/png": "[encoded data removed]",
      "text/plain": [
       "<Figure size 800x550 with 1 Axes>"
      ]
     },
     "metadata": {},
     "output_type": "display_data"
    }
   ],
   "source": [
    "plot_model(best, plot='error')"
   ]
  },
  {
   "cell_type": "code",
   "execution_count": 60,
   "metadata": {},
   "outputs": [
    {
     "data": {
      "text/html": [],
      "text/plain": [
       "<IPython.core.display.HTML object>"
      ]
     },
     "metadata": {},
     "output_type": "display_data"
    },
    {
     "data": {
      "image/png": "[encoded data removed]",
      "text/plain": [
       "<Figure size 800x500 with 1 Axes>"
      ]
     },
     "metadata": {},
     "output_type": "display_data"
    }
   ],
   "source": [
    "plot_model(best, plot='feature')"
   ]
  },
  {
   "cell_type": "code",
   "execution_count": null,
   "metadata": {},
   "outputs": [
    {
     "data": {
      "text/html": [
       "<style type=\"text/css\">\n",
       "</style>\n",
       "<table id=\"T_cd4fd\">\n",
       "  <thead>\n",
       "    <tr>\n",
       "      <th class=\"blank level0\" >&nbsp;</th>\n",
       "      <th id=\"T_cd4fd_level0_col0\" class=\"col_heading level0 col0\" >Model</th>\n",
       "      <th id=\"T_cd4fd_level0_col1\" class=\"col_heading level0 col1\" >MAE</th>\n",
       "      <th id=\"T_cd4fd_level0_col2\" class=\"col_heading level0 col2\" >MSE</th>\n",
       "      <th id=\"T_cd4fd_level0_col3\" class=\"col_heading level0 col3\" >RMSE</th>\n",
       "      <th id=\"T_cd4fd_level0_col4\" class=\"col_heading level0 col4\" >R2</th>\n",
       "      <th id=\"T_cd4fd_level0_col5\" class=\"col_heading level0 col5\" >RMSLE</th>\n",
       "      <th id=\"T_cd4fd_level0_col6\" class=\"col_heading level0 col6\" >MAPE</th>\n",
       "    </tr>\n",
       "  </thead>\n",
       "  <tbody>\n",
       "    <tr>\n",
       "      <th id=\"T_cd4fd_level0_row0\" class=\"row_heading level0 row0\" >0</th>\n",
       "      <td id=\"T_cd4fd_row0_col0\" class=\"data row0 col0\" >Light Gradient Boosting Machine</td>\n",
       "      <td id=\"T_cd4fd_row0_col1\" class=\"data row0 col1\" >989.2009</td>\n",
       "      <td id=\"T_cd4fd_row0_col2\" class=\"data row0 col2\" >2655092.8620</td>\n",
       "      <td id=\"T_cd4fd_row0_col3\" class=\"data row0 col3\" >1629.4456</td>\n",
       "      <td id=\"T_cd4fd_row0_col4\" class=\"data row0 col4\" >0.8742</td>\n",
       "      <td id=\"T_cd4fd_row0_col5\" class=\"data row0 col5\" >0.3076</td>\n",
       "      <td id=\"T_cd4fd_row0_col6\" class=\"data row0 col6\" >0.2356</td>\n",
       "    </tr>\n",
       "  </tbody>\n",
       "</table>\n"
      ],
      "text/plain": [
       "<pandas.io.formats.style.Styler at 0x28a7c719fc0>"
      ]
     },
     "metadata": {},
     "output_type": "display_data"
    }
   ],
   "source": [
    "previsoes = predict_model(best)"
   ]
  },
  {
   "cell_type": "code",
   "execution_count": null,
   "metadata": {},
   "outputs": [
    {
     "data": {
      "text/html": [
       "<div>\n",
       "<style scoped>\n",
       "    .dataframe tbody tr th:only-of-type {\n",
       "        vertical-align: middle;\n",
       "    }\n",
       "\n",
       "    .dataframe tbody tr th {\n",
       "        vertical-align: top;\n",
       "    }\n",
       "\n",
       "    .dataframe thead th {\n",
       "        text-align: right;\n",
       "    }\n",
       "</style>\n",
       "<table border=\"1\" class=\"dataframe\">\n",
       "  <thead>\n",
       "    <tr style=\"text-align: right;\">\n",
       "      <th></th>\n",
       "      <th>Mileage(miles)</th>\n",
       "      <th>Registration Year</th>\n",
       "      <th>Previous Owners</th>\n",
       "      <th>Fuel Type</th>\n",
       "      <th>Body Type</th>\n",
       "      <th>Engine</th>\n",
       "      <th>Gearbox</th>\n",
       "      <th>Doors</th>\n",
       "      <th>Seats</th>\n",
       "      <th>Emission Class</th>\n",
       "      <th>Service History</th>\n",
       "      <th>Price</th>\n",
       "      <th>prediction_label</th>\n",
       "    </tr>\n",
       "  </thead>\n",
       "  <tbody>\n",
       "    <tr>\n",
       "      <th>2260</th>\n",
       "      <td>78033</td>\n",
       "      <td>2015</td>\n",
       "      <td>1.0</td>\n",
       "      <td>1</td>\n",
       "      <td>Hatchback</td>\n",
       "      <td>1.2</td>\n",
       "      <td>1</td>\n",
       "      <td>3.0</td>\n",
       "      <td>4.0</td>\n",
       "      <td>Euro 6</td>\n",
       "      <td>0</td>\n",
       "      <td>4250</td>\n",
       "      <td>4844.510722</td>\n",
       "    </tr>\n",
       "    <tr>\n",
       "      <th>1606</th>\n",
       "      <td>47988</td>\n",
       "      <td>2009</td>\n",
       "      <td>1.0</td>\n",
       "      <td>1</td>\n",
       "      <td>Hatchback</td>\n",
       "      <td>1.2</td>\n",
       "      <td>1</td>\n",
       "      <td>3.0</td>\n",
       "      <td>5.0</td>\n",
       "      <td>Euro 4</td>\n",
       "      <td>0</td>\n",
       "      <td>2995</td>\n",
       "      <td>2885.981345</td>\n",
       "    </tr>\n",
       "    <tr>\n",
       "      <th>3292</th>\n",
       "      <td>70984</td>\n",
       "      <td>2013</td>\n",
       "      <td>8.0</td>\n",
       "      <td>1</td>\n",
       "      <td>Hatchback</td>\n",
       "      <td>1.4</td>\n",
       "      <td>1</td>\n",
       "      <td>3.0</td>\n",
       "      <td>4.0</td>\n",
       "      <td>Euro 5</td>\n",
       "      <td>0</td>\n",
       "      <td>1295</td>\n",
       "      <td>4545.876491</td>\n",
       "    </tr>\n",
       "    <tr>\n",
       "      <th>449</th>\n",
       "      <td>130422</td>\n",
       "      <td>2009</td>\n",
       "      <td>4.0</td>\n",
       "      <td>1</td>\n",
       "      <td>Hatchback</td>\n",
       "      <td>1.4</td>\n",
       "      <td>1</td>\n",
       "      <td>3.0</td>\n",
       "      <td>4.0</td>\n",
       "      <td>Euro 4</td>\n",
       "      <td>0</td>\n",
       "      <td>2920</td>\n",
       "      <td>1993.255093</td>\n",
       "    </tr>\n",
       "    <tr>\n",
       "      <th>1593</th>\n",
       "      <td>91000</td>\n",
       "      <td>2019</td>\n",
       "      <td>1.0</td>\n",
       "      <td>1</td>\n",
       "      <td>Hatchback</td>\n",
       "      <td>1.5</td>\n",
       "      <td>1</td>\n",
       "      <td>5.0</td>\n",
       "      <td>5.0</td>\n",
       "      <td>Euro 6</td>\n",
       "      <td>1</td>\n",
       "      <td>10970</td>\n",
       "      <td>11043.900147</td>\n",
       "    </tr>\n",
       "  </tbody>\n",
       "</table>\n",
       "</div>"
      ],
      "text/plain": [
       "      Mileage(miles)  Registration Year  Previous Owners Fuel Type  Body Type  \\\n",
       "2260           78033               2015              1.0         1  Hatchback   \n",
       "1606           47988               2009              1.0         1  Hatchback   \n",
       "3292           70984               2013              8.0         1  Hatchback   \n",
       "449           130422               2009              4.0         1  Hatchback   \n",
       "1593           91000               2019              1.0         1  Hatchback   \n",
       "\n",
       "      Engine Gearbox  Doors  Seats Emission Class  Service History  Price  \\\n",
       "2260     1.2       1    3.0    4.0         Euro 6                0   4250   \n",
       "1606     1.2       1    3.0    5.0         Euro 4                0   2995   \n",
       "3292     1.4       1    3.0    4.0         Euro 5                0   1295   \n",
       "449      1.4       1    3.0    4.0         Euro 4                0   2920   \n",
       "1593     1.5       1    5.0    5.0         Euro 6                1  10970   \n",
       "\n",
       "      prediction_label  \n",
       "2260       4844.510722  \n",
       "1606       2885.981345  \n",
       "3292       4545.876491  \n",
       "449        1993.255093  \n",
       "1593      11043.900147  "
      ]
     },
     "execution_count": 78,
     "metadata": {},
     "output_type": "execute_result"
    }
   ],
   "source": [
    "previsoes.head()"
   ]
  },
  {
   "cell_type": "code",
   "execution_count": null,
   "metadata": {},
   "outputs": [],
   "source": [
    "previsoes.reset_index(inplace=True, drop=True)"
   ]
  },
  {
   "cell_type": "code",
   "execution_count": null,
   "metadata": {},
   "outputs": [
    {
     "data": {
      "text/html": [
       "<div>\n",
       "<style scoped>\n",
       "    .dataframe tbody tr th:only-of-type {\n",
       "        vertical-align: middle;\n",
       "    }\n",
       "\n",
       "    .dataframe tbody tr th {\n",
       "        vertical-align: top;\n",
       "    }\n",
       "\n",
       "    .dataframe thead th {\n",
       "        text-align: right;\n",
       "    }\n",
       "</style>\n",
       "<table border=\"1\" class=\"dataframe\">\n",
       "  <thead>\n",
       "    <tr style=\"text-align: right;\">\n",
       "      <th></th>\n",
       "      <th>Mileage(miles)</th>\n",
       "      <th>Registration Year</th>\n",
       "      <th>Previous Owners</th>\n",
       "      <th>Fuel Type</th>\n",
       "      <th>Body Type</th>\n",
       "      <th>Engine</th>\n",
       "      <th>Gearbox</th>\n",
       "      <th>Doors</th>\n",
       "      <th>Seats</th>\n",
       "      <th>Emission Class</th>\n",
       "      <th>Service History</th>\n",
       "      <th>Price</th>\n",
       "      <th>prediction_label</th>\n",
       "    </tr>\n",
       "  </thead>\n",
       "  <tbody>\n",
       "    <tr>\n",
       "      <th>0</th>\n",
       "      <td>78033</td>\n",
       "      <td>2015</td>\n",
       "      <td>1.0</td>\n",
       "      <td>1</td>\n",
       "      <td>Hatchback</td>\n",
       "      <td>1.2</td>\n",
       "      <td>1</td>\n",
       "      <td>3.0</td>\n",
       "      <td>4.0</td>\n",
       "      <td>Euro 6</td>\n",
       "      <td>0</td>\n",
       "      <td>4250</td>\n",
       "      <td>4844.510722</td>\n",
       "    </tr>\n",
       "    <tr>\n",
       "      <th>1</th>\n",
       "      <td>47988</td>\n",
       "      <td>2009</td>\n",
       "      <td>1.0</td>\n",
       "      <td>1</td>\n",
       "      <td>Hatchback</td>\n",
       "      <td>1.2</td>\n",
       "      <td>1</td>\n",
       "      <td>3.0</td>\n",
       "      <td>5.0</td>\n",
       "      <td>Euro 4</td>\n",
       "      <td>0</td>\n",
       "      <td>2995</td>\n",
       "      <td>2885.981345</td>\n",
       "    </tr>\n",
       "    <tr>\n",
       "      <th>2</th>\n",
       "      <td>70984</td>\n",
       "      <td>2013</td>\n",
       "      <td>8.0</td>\n",
       "      <td>1</td>\n",
       "      <td>Hatchback</td>\n",
       "      <td>1.4</td>\n",
       "      <td>1</td>\n",
       "      <td>3.0</td>\n",
       "      <td>4.0</td>\n",
       "      <td>Euro 5</td>\n",
       "      <td>0</td>\n",
       "      <td>1295</td>\n",
       "      <td>4545.876491</td>\n",
       "    </tr>\n",
       "    <tr>\n",
       "      <th>3</th>\n",
       "      <td>130422</td>\n",
       "      <td>2009</td>\n",
       "      <td>4.0</td>\n",
       "      <td>1</td>\n",
       "      <td>Hatchback</td>\n",
       "      <td>1.4</td>\n",
       "      <td>1</td>\n",
       "      <td>3.0</td>\n",
       "      <td>4.0</td>\n",
       "      <td>Euro 4</td>\n",
       "      <td>0</td>\n",
       "      <td>2920</td>\n",
       "      <td>1993.255093</td>\n",
       "    </tr>\n",
       "    <tr>\n",
       "      <th>4</th>\n",
       "      <td>91000</td>\n",
       "      <td>2019</td>\n",
       "      <td>1.0</td>\n",
       "      <td>1</td>\n",
       "      <td>Hatchback</td>\n",
       "      <td>1.5</td>\n",
       "      <td>1</td>\n",
       "      <td>5.0</td>\n",
       "      <td>5.0</td>\n",
       "      <td>Euro 6</td>\n",
       "      <td>1</td>\n",
       "      <td>10970</td>\n",
       "      <td>11043.900147</td>\n",
       "    </tr>\n",
       "  </tbody>\n",
       "</table>\n",
       "</div>"
      ],
      "text/plain": [
       "   Mileage(miles)  Registration Year  Previous Owners Fuel Type  Body Type  \\\n",
       "0           78033               2015              1.0         1  Hatchback   \n",
       "1           47988               2009              1.0         1  Hatchback   \n",
       "2           70984               2013              8.0         1  Hatchback   \n",
       "3          130422               2009              4.0         1  Hatchback   \n",
       "4           91000               2019              1.0         1  Hatchback   \n",
       "\n",
       "   Engine Gearbox  Doors  Seats Emission Class  Service History  Price  \\\n",
       "0     1.2       1    3.0    4.0         Euro 6                0   4250   \n",
       "1     1.2       1    3.0    5.0         Euro 4                0   2995   \n",
       "2     1.4       1    3.0    4.0         Euro 5                0   1295   \n",
       "3     1.4       1    3.0    4.0         Euro 4                0   2920   \n",
       "4     1.5       1    5.0    5.0         Euro 6                1  10970   \n",
       "\n",
       "   prediction_label  \n",
       "0       4844.510722  \n",
       "1       2885.981345  \n",
       "2       4545.876491  \n",
       "3       1993.255093  \n",
       "4      11043.900147  "
      ]
     },
     "execution_count": 80,
     "metadata": {},
     "output_type": "execute_result"
    }
   ],
   "source": [
    "previsoes.head()"
   ]
  },
  {
   "cell_type": "code",
   "execution_count": null,
   "metadata": {},
   "outputs": [
    {
     "data": {
      "text/html": [
       "<div>\n",
       "<style scoped>\n",
       "    .dataframe tbody tr th:only-of-type {\n",
       "        vertical-align: middle;\n",
       "    }\n",
       "\n",
       "    .dataframe tbody tr th {\n",
       "        vertical-align: top;\n",
       "    }\n",
       "\n",
       "    .dataframe thead th {\n",
       "        text-align: right;\n",
       "    }\n",
       "</style>\n",
       "<table border=\"1\" class=\"dataframe\">\n",
       "  <thead>\n",
       "    <tr style=\"text-align: right;\">\n",
       "      <th></th>\n",
       "      <th>Mileage(miles)</th>\n",
       "      <th>Registration Year</th>\n",
       "      <th>Previous Owners</th>\n",
       "      <th>Fuel Type</th>\n",
       "      <th>Body Type</th>\n",
       "      <th>Engine</th>\n",
       "      <th>Gearbox</th>\n",
       "      <th>Doors</th>\n",
       "      <th>Seats</th>\n",
       "      <th>Emission Class</th>\n",
       "      <th>Service History</th>\n",
       "      <th>Price</th>\n",
       "      <th>prediction_label</th>\n",
       "    </tr>\n",
       "  </thead>\n",
       "  <tbody>\n",
       "    <tr>\n",
       "      <th>1101</th>\n",
       "      <td>14385</td>\n",
       "      <td>2021</td>\n",
       "      <td>1.0</td>\n",
       "      <td>1</td>\n",
       "      <td>SUV</td>\n",
       "      <td>1.0</td>\n",
       "      <td>1</td>\n",
       "      <td>5.0</td>\n",
       "      <td>5.0</td>\n",
       "      <td>Euro 6</td>\n",
       "      <td>1</td>\n",
       "      <td>17670</td>\n",
       "      <td>17543.733846</td>\n",
       "    </tr>\n",
       "    <tr>\n",
       "      <th>1102</th>\n",
       "      <td>75677</td>\n",
       "      <td>2008</td>\n",
       "      <td>1.0</td>\n",
       "      <td>1</td>\n",
       "      <td>Hatchback</td>\n",
       "      <td>1.3</td>\n",
       "      <td>1</td>\n",
       "      <td>5.0</td>\n",
       "      <td>5.0</td>\n",
       "      <td>Euro 4</td>\n",
       "      <td>0</td>\n",
       "      <td>1195</td>\n",
       "      <td>2332.102515</td>\n",
       "    </tr>\n",
       "    <tr>\n",
       "      <th>1103</th>\n",
       "      <td>77182</td>\n",
       "      <td>2010</td>\n",
       "      <td>3.0</td>\n",
       "      <td>1</td>\n",
       "      <td>Hatchback</td>\n",
       "      <td>1.2</td>\n",
       "      <td>1</td>\n",
       "      <td>5.0</td>\n",
       "      <td>5.0</td>\n",
       "      <td>Euro 5</td>\n",
       "      <td>0</td>\n",
       "      <td>1599</td>\n",
       "      <td>2759.686055</td>\n",
       "    </tr>\n",
       "    <tr>\n",
       "      <th>1104</th>\n",
       "      <td>20114</td>\n",
       "      <td>2019</td>\n",
       "      <td>1.0</td>\n",
       "      <td>1</td>\n",
       "      <td>SUV</td>\n",
       "      <td>1.2</td>\n",
       "      <td>1</td>\n",
       "      <td>5.0</td>\n",
       "      <td>5.0</td>\n",
       "      <td>Euro 6</td>\n",
       "      <td>1</td>\n",
       "      <td>13499</td>\n",
       "      <td>14248.169231</td>\n",
       "    </tr>\n",
       "    <tr>\n",
       "      <th>1105</th>\n",
       "      <td>91000</td>\n",
       "      <td>2014</td>\n",
       "      <td>2.0</td>\n",
       "      <td>1</td>\n",
       "      <td>Hatchback</td>\n",
       "      <td>1.4</td>\n",
       "      <td>1</td>\n",
       "      <td>5.0</td>\n",
       "      <td>5.0</td>\n",
       "      <td>Euro 5</td>\n",
       "      <td>0</td>\n",
       "      <td>3990</td>\n",
       "      <td>4979.537550</td>\n",
       "    </tr>\n",
       "  </tbody>\n",
       "</table>\n",
       "</div>"
      ],
      "text/plain": [
       "      Mileage(miles)  Registration Year  Previous Owners Fuel Type  Body Type  \\\n",
       "1101           14385               2021              1.0         1        SUV   \n",
       "1102           75677               2008              1.0         1  Hatchback   \n",
       "1103           77182               2010              3.0         1  Hatchback   \n",
       "1104           20114               2019              1.0         1        SUV   \n",
       "1105           91000               2014              2.0         1  Hatchback   \n",
       "\n",
       "      Engine Gearbox  Doors  Seats Emission Class  Service History  Price  \\\n",
       "1101     1.0       1    5.0    5.0         Euro 6                1  17670   \n",
       "1102     1.3       1    5.0    5.0         Euro 4                0   1195   \n",
       "1103     1.2       1    5.0    5.0         Euro 5                0   1599   \n",
       "1104     1.2       1    5.0    5.0         Euro 6                1  13499   \n",
       "1105     1.4       1    5.0    5.0         Euro 5                0   3990   \n",
       "\n",
       "      prediction_label  \n",
       "1101      17543.733846  \n",
       "1102       2332.102515  \n",
       "1103       2759.686055  \n",
       "1104      14248.169231  \n",
       "1105       4979.537550  "
      ]
     },
     "execution_count": 81,
     "metadata": {},
     "output_type": "execute_result"
    }
   ],
   "source": [
    "previsoes.tail()"
   ]
  },
  {
   "cell_type": "markdown",
   "metadata": {},
   "source": [
    "### Deploy on Docker"
   ]
  },
  {
   "cell_type": "code",
   "execution_count": null,
   "metadata": {},
   "outputs": [
    {
     "name": "stdout",
     "output_type": "stream",
     "text": [
      "API successfully created. This function only creates a POST API, it doesn't run it automatically. To run your API, please run this command --> !python regression_api.py\n"
     ]
    }
   ],
   "source": [
    "create_api(best, 'regression_api')"
   ]
  },
  {
   "cell_type": "code",
   "execution_count": null,
   "metadata": {},
   "outputs": [
    {
     "name": "stdout",
     "output_type": "stream",
     "text": [
      "Writing requirements.txt\n",
      "Writing Dockerfile\n",
      "Dockerfile and requirements.txt successfully created.\n",
      "    To build image you have to run --> !docker image build -f \"Dockerfile\" -t IMAGE_NAME:IMAGE_TAG .\n",
      "            \n"
     ]
    }
   ],
   "source": [
    "create_docker('regression_api')"
   ]
  }
 ],
 "metadata": {
  "kernelspec": {
   "display_name": "pycaret",
   "language": "python",
   "name": "pycaret"
  }
 },
 "nbformat": 4,
 "nbformat_minor": 2
}
